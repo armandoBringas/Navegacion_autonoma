{
 "cells": [
  {
   "cell_type": "code",
   "id": "initial_id",
   "metadata": {
    "collapsed": true,
    "ExecuteTime": {
     "end_time": "2024-05-02T01:27:15.986161Z",
     "start_time": "2024-05-02T01:27:15.226800Z"
    }
   },
   "source": [
    "import matplotlib.image as mpimg\n",
    "import matplotlib.pyplot as plt\n",
    "import numpy as np\n",
    "import cv2"
   ],
   "outputs": [],
   "execution_count": 1
  },
  {
   "metadata": {
    "ExecuteTime": {
     "end_time": "2024-05-02T01:28:10.587837Z",
     "start_time": "2024-05-02T01:28:08.623054Z"
    }
   },
   "cell_type": "code",
   "source": [
    "img_path = '../../img'\n",
    "img_original = cv2.imread(f'{img_path}/Google-self-driving-car-007.jpg')\n",
    "cv2.imshow('Original image', img_original)\n",
    "cv2.waitKey()\n",
    "cv2.destroyAllWindows()"
   ],
   "id": "3ab0ae330d57b3e8",
   "outputs": [],
   "execution_count": 3
  },
  {
   "metadata": {},
   "cell_type": "markdown",
   "source": "## Use a kernel to sharpen image edges",
   "id": "19260f74a7cf836f"
  },
  {
   "metadata": {
    "ExecuteTime": {
     "end_time": "2024-05-02T01:35:43.274244Z",
     "start_time": "2024-05-02T01:35:43.256199Z"
    }
   },
   "cell_type": "code",
   "source": "img_original.shape",
   "id": "a35bb6ad2dc1a388",
   "outputs": [
    {
     "data": {
      "text/plain": [
       "(720, 960, 3)"
      ]
     },
     "execution_count": 4,
     "metadata": {},
     "output_type": "execute_result"
    }
   ],
   "execution_count": 4
  },
  {
   "metadata": {
    "ExecuteTime": {
     "end_time": "2024-05-02T01:37:48.403203Z",
     "start_time": "2024-05-02T01:36:53.475554Z"
    }
   },
   "cell_type": "code",
   "source": [
    "sharp_kernel = np.array([[-1,-1,-1],\n",
    "                         [-1,9,-1],\n",
    "                         [-1,-1,-1]])\n",
    "\n",
    "sharpened_img = cv2.filter2D(img_original, -1, sharp_kernel)\n",
    "\n",
    "cv2.imshow('Sharpened image', sharpened_img)\n",
    "cv2.waitKey()\n",
    "cv2.destroyAllWindows()"
   ],
   "id": "80697504b146ba54",
   "outputs": [],
   "execution_count": 5
  },
  {
   "metadata": {},
   "cell_type": "markdown",
   "source": "## Kernel to show blurred image",
   "id": "2aa0292764b86507"
  },
  {
   "metadata": {
    "ExecuteTime": {
     "end_time": "2024-05-02T01:39:36.048060Z",
     "start_time": "2024-05-02T01:39:25.826901Z"
    }
   },
   "cell_type": "code",
   "source": [
    "blur_kernel = np.ones((3,3))*(1/9)\n",
    "blurred_img = cv2.filter2D(img_original, -1, blur_kernel)\n",
    "\n",
    "cv2.imshow('Blurred image', blurred_img)\n",
    "cv2.waitKey()\n",
    "cv2.destroyAllWindows()"
   ],
   "id": "f452af356d42b64",
   "outputs": [],
   "execution_count": 6
  },
  {
   "metadata": {},
   "cell_type": "markdown",
   "source": "## Using cv2 functions",
   "id": "abcc61320f4ce4ec"
  },
  {
   "metadata": {
    "ExecuteTime": {
     "end_time": "2024-05-02T01:43:44.892463Z",
     "start_time": "2024-05-02T01:43:43.755118Z"
    }
   },
   "cell_type": "code",
   "source": [
    "blurred_func1_img = cv2.blur(img_original, ksize=(5,5))\n",
    "cv2.imshow('Blurred image', blurred_func1_img)\n",
    "cv2.waitKey()\n",
    "cv2.destroyAllWindows()"
   ],
   "id": "d7f95b3aeab1f771",
   "outputs": [],
   "execution_count": 7
  },
  {
   "metadata": {
    "ExecuteTime": {
     "end_time": "2024-05-02T01:43:46.665105Z",
     "start_time": "2024-05-02T01:43:45.886477Z"
    }
   },
   "cell_type": "code",
   "source": [
    "blurred_func2_img = cv2.GaussianBlur(img_original,(7,7),10)\n",
    "cv2.imshow('Blurred image', blurred_func2_img)\n",
    "cv2.waitKey()\n",
    "cv2.destroyAllWindows()"
   ],
   "id": "6bd6adc129f04838",
   "outputs": [],
   "execution_count": 8
  },
  {
   "metadata": {},
   "cell_type": "markdown",
   "source": "## Image equalization with grayscale",
   "id": "8a0b981dc762093e"
  },
  {
   "metadata": {
    "ExecuteTime": {
     "end_time": "2024-05-02T01:47:38.049222Z",
     "start_time": "2024-05-02T01:47:34.755353Z"
    }
   },
   "cell_type": "code",
   "source": [
    "gray_img = cv2.cvtColor(img_original, cv2.COLOR_BGR2GRAY)\n",
    "equal_img = cv2.equalizeHist(gray_img)\n",
    "cv2.imshow('Gray image', gray_img)\n",
    "cv2.imshow('Equalized image', equal_img)\n",
    "cv2.waitKey()\n",
    "cv2.destroyAllWindows()"
   ],
   "id": "11fc5d2b81baaca6",
   "outputs": [],
   "execution_count": 9
  },
  {
   "metadata": {},
   "cell_type": "code",
   "outputs": [],
   "execution_count": null,
   "source": "",
   "id": "7e03a5f8dcde159c"
  }
 ],
 "metadata": {
  "kernelspec": {
   "display_name": "Python 3",
   "language": "python",
   "name": "python3"
  },
  "language_info": {
   "codemirror_mode": {
    "name": "ipython",
    "version": 2
   },
   "file_extension": ".py",
   "mimetype": "text/x-python",
   "name": "python",
   "nbconvert_exporter": "python",
   "pygments_lexer": "ipython2",
   "version": "2.7.6"
  }
 },
 "nbformat": 4,
 "nbformat_minor": 5
}
