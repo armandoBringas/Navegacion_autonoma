


import cv2
from PIL import Image
import numpy as np
import matplotlib.image as mpimg
import matplotlib.pyplot as plt
%matplotlib inline





img_path = '../../img'
img = cv2.imread(f'{img_path}/Google-self-driving-car-007.jpg')


img.shape
print(f'altura = {int(img.shape[0])}, pixels')
print(f'anchura = {int(img.shape[1])}, pixels')





cv2.imshow('Google self driving car', img)
cv2.waitKey(0)
cv2.destroyAllWindows()






rgb_img = cv2.cvtColor(img, cv2.COLOR_BGR2RGB)
plt.imshow(rgb_img)
rgb_img.shape





gray_img = cv2.cvtColor(img, cv2.COLOR_BGR2GRAY)
cv2.imshow('Google self driving car in grayscale', gray_img)
cv2.waitKey(0)
cv2.destroyAllWindows()


gray_img.shape





img_arr = np.asarray(rgb_img)
img_arr.shape
plt.imshow(img_arr)





img2 = Image.open(f'{img_path}/Google-self-driving-car-007.jpg')





img2_arr = np.asarray(img2)
img2_arr.shape
plt.imshow(img2_arr)





img_red = img2_arr.copy()
# plano verde se hace cero
img_red[:,:,1] = 0
# plano azul se hace cero
img_red[:,:,2] = 0
plt.imshow(img_red)






hsv_img = cv2.cvtColor(img, cv2.COLOR_BGR2HSV)
cv2.imshow('Google self driving car in HSV', hsv_img)
cv2.waitKey()
cv2.destroyAllWindows()





plt.imshow(hsv_img[:,:,0])
plt.title('Hue')





plt.imshow(hsv_img[:,:,1])
plt.title('Saturation')





plt.imshow(hsv_img[:,:,2])
plt.title('Value')



