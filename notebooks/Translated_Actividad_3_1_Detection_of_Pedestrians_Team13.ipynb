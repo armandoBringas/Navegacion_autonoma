{
 "cells": [
  {
   "metadata": {},
   "cell_type": "markdown",
   "source": "# Pedestrian Detection with SVM (Support Vector Machines)",
   "id": "4c412a3c228aa37"
  },
  {
   "metadata": {},
   "cell_type": "markdown",
   "source": "# 💻 **Used Libraries**",
   "id": "37986e402e1ff167"
  },
  {
   "cell_type": "markdown",
   "id": "-mjNbOFRE6nq",
   "metadata": {
    "id": "-mjNbOFRE6nq"
   },
   "source": [
    "- **glob:** This library is used to find all files that match a specified pattern. In your case, it might be used to find and load images of pedestrians and non-pedestrians from one or more directories.\n",
    "\n",
    "- **os:** The os library is essential for interacting with the operating system. It can be used to manipulate file paths, create directories, check the existence of files, etc. In your code, it is probably used for file-related operations, such as reading image files.\n",
    "\n",
    "- **tarfile:** This library provides operations for tar files, which are commonly used to compress files and directories on Unix systems. You might be using this to extract images from a compressed tar file containing your datasets.\n",
    "\n",
    "- **cv2:** OpenCV is a popular library for computer vision and image processing. You are likely using it to load and preprocess images, such as resizing, converting to grayscale, or applying other filters needed for feature extraction.\n",
    "\n",
    "- **matplotlib:** This library is commonly used for data visualization in Python. In your code, it might be used to display images and plots, which can be useful for data exploration and result evaluation.\n",
    "\n",
    "- **numpy:** NumPy is a fundamental library for numerical computing in Python. It is used to perform mathematical operations on arrays and multidimensional arrays. In the context of your code, it might be used to manipulate and process image data.\n",
    "\n",
    "- **requests:** This library allows you to make HTTP requests in Python. In your code, it might be used to download images from a URL if your data is hosted online.\n",
    "\n",
    "- **seaborn:** Seaborn is a data visualization library based on matplotlib. It is used to create attractive and informative statistical graphics. In your code, it might be used to visualize the confusion matrix or other graphs related to model evaluation.\n",
    "\n",
    "- **skimage:** This library provides a collection of algorithms for image processing. In particular, the skimage.feature module provides tools for feature extraction, such as the Histogram of Oriented Gradients (HOG), which is useful in object detection in images.\n",
    "\n",
    "- **scikit-learn:** Scikit-learn is a machine learning library in Python that provides efficient implementations of a wide range of machine learning algorithms. In your code, you are using sklearn.svm to train a support vector machine (SVM) model for pedestrian detection.\n",
    "\n"
   ]
  },
  {
   "cell_type": "code",
   "execution_count": null,
   "id": "TVv-VIKPzNOD",
   "metadata": {
    "id": "TVv-VIKPzNOD"
   },
   "outputs": [],
   "source": [
    "!pip install scikit-learn-intelex"
   ]
  },
  {
   "cell_type": "code",
   "execution_count": null,
   "id": "70d23947",
   "metadata": {
    "id": "70d23947"
   },
   "outputs": [],
   "source": [
    "!pip install scikit-image"
   ]
  },
  {
   "cell_type": "code",
   "execution_count": null,
   "id": "initial_id",
   "metadata": {
    "ExecuteTime": {
     "end_time": "2024-05-14T03:52:35.259497Z",
     "start_time": "2024-05-14T03:52:33.379714Z"
    },
    "id": "initial_id"
   },
   "outputs": [],
   "source": [
    "import glob\n",
    "import os\n",
    "import tarfile\n",
    "import cv2\n",
    "import matplotlib.image as mpimg\n",
    "import matplotlib.pyplot as plt\n",
    "import numpy as np\n",
    "import requests\n",
    "import seaborn as sns\n",
    "from skimage.feature import hog\n",
    "from sklearn.metrics import classification_report, confusion_matrix\n",
    "from sklearn.model_selection import train_test_split, GridSearchCV\n",
    "from sklearn.svm import SVC\n",
    "\n",
    "# Estas librerías son para optimizar la librería de sklearnex cuando \n",
    "# from sklearnex import patch_sklearn \n",
    "# patch_sklearn()"
   ]
  },
  {
   "cell_type": "markdown",
   "id": "c2869b0347313e89",
   "metadata": {
    "id": "c2869b0347313e89"
   },
   "source": [
    "## 🚀 **Loading the Dataset**\n",
    "\n",
    "---"
   ]
  },
  {
   "cell_type": "markdown",
   "id": "6edbf878b6ed738f",
   "metadata": {
    "id": "6edbf878b6ed738f"
   },
   "source": "The dataset was obtained from: http://www.gavrila.net/Datasets/Daimler_Pedestrian_Benchmark_D/Daimler_Mono_Ped__Class__Bench/daimler_mono_ped__class__bench.html. It contains images of pedestrians and non-pedestrians, which will be very useful for training our model. Since the dataset comes in .tar.gz format, the following function downloads it directly from the URL and extracts the images into the specified folder."
  },
  {
   "cell_type": "code",
   "execution_count": null,
   "id": "fe889c0cda6961ab",
   "metadata": {
    "ExecuteTime": {
     "end_time": "2024-05-14T03:52:35.306494Z",
     "start_time": "2024-05-14T03:52:35.292497Z"
    },
    "id": "fe889c0cda6961ab"
   },
   "outputs": [],
   "source": [
    "def download_and_extract_dataset(url: str, target_dir: str):\n",
    "    \"\"\"\n",
    "    Descarga y extrae un conjunto de datos en formato tar.gz desde una URL en el directorio especificado.\n",
    "\n",
    "    Args:\n",
    "        url (str): La URL de donde se descargará el conjunto de datos.\n",
    "        target_dir (str): El directorio donde se guardará el conjunto de datos.\n",
    "    \"\"\"\n",
    "    # Revisar que el directorio objetivo existe\n",
    "    os.makedirs(target_dir, exist_ok=True)\n",
    "\n",
    "    # Establece la ruta donde se guardará el conjunto de datos\n",
    "    filename = url.split(\"/\")[-1]\n",
    "    file_path = os.path.join(target_dir, filename)\n",
    "\n",
    "    # Verifica si el archivo ya existe\n",
    "    if not os.path.exists(file_path):\n",
    "        print(\"Descargando el conjunto de datos...\")\n",
    "        # Envía una solicitud GET a la URL\n",
    "        response = requests.get(url, stream=True)\n",
    "        if response.status_code == 200:\n",
    "            # Guarda el archivo en fragmentos para evitar usar demasiada memoria\n",
    "            with open(file_path, 'wb') as f:\n",
    "                for chunk in response.iter_content(chunk_size=8192):\n",
    "                    f.write(chunk)\n",
    "            print(\"Descarga completa. Extrayendo archivos...\")\n",
    "            # Extrae el archivo tar.gz\n",
    "            with tarfile.open(file_path, \"r:gz\") as tar:\n",
    "                tar.extractall(path=target_dir)\n",
    "            print(\"Extracción completa.\")\n",
    "        else:\n",
    "            print(\"Fallo al descargar el archivo. Código de estado:\", response.status_code)\n",
    "    else:\n",
    "        print(\"El conjunto de datos ya existe.\")"
   ]
  },
  {
   "cell_type": "markdown",
   "id": "7WT6dgsD0Ny5",
   "metadata": {
    "id": "7WT6dgsD0Ny5"
   },
   "source": "Function Execution"
  },
  {
   "cell_type": "code",
   "execution_count": null,
   "id": "afe7dc0f5beec69c",
   "metadata": {
    "ExecuteTime": {
     "end_time": "2024-05-14T03:52:35.322497Z",
     "start_time": "2024-05-14T03:52:35.308494Z"
    },
    "colab": {
     "base_uri": "https://localhost:8080/"
    },
    "id": "afe7dc0f5beec69c",
    "outputId": "9b3374d6-beb1-416f-d4b4-bf3af124f167"
   },
   "outputs": [
    {
     "name": "stdout",
     "output_type": "stream",
     "text": [
      "Descargando el conjunto de datos...\n",
      "Descarga completa. Extrayendo archivos...\n",
      "Extracción completa.\n"
     ]
    }
   ],
   "source": [
    "dataset_url = \"http://www.lookingatpeople.com/data/Daimler/pami06-munder-gavrila/DC-ped-dataset_base.tar.gz\"\n",
    "dataset_target_dir = \"data/pedestrians\"\n",
    "\n",
    "download_and_extract_dataset(dataset_url, dataset_target_dir)"
   ]
  },
  {
   "cell_type": "markdown",
   "id": "c2c46e8f2f73f7c8",
   "metadata": {
    "id": "c2c46e8f2f73f7c8"
   },
   "source": [
    "# 📝 **Training and Testing Data**\n",
    "\n",
    "---"
   ]
  },
  {
   "cell_type": "markdown",
   "id": "e4a1f9204bea8460",
   "metadata": {
    "id": "e4a1f9204bea8460"
   },
   "source": [
    "According to the dataset description found on the following page: http://www.lookingatpeople.com/data/Daimler/pami06-munder-gavrila/README_benchmark.txt, the dataset has the following structure:\n",
    "\n",
    "| **Dataset Name** | **Purpose** | **Pedestrian Labels** | **Pedestrian Examples** | **Non-ped. Examples** | **Storage Size** |\n",
    "|------------------|-------------|-----------------------|-------------------------|-----------------------|------------------|\n",
    "| 1                | Training    | 800                   | 4800                    | 5000                  | 39 MB            |\n",
    "| 2                | Training    | 800                   | 4800                    | 5000                  | 39 MB            |\n",
    "| 3                | Training    | 800                   | 4800                    | 5000                  | 39 MB            |\n",
    "| T1               | Test        | 800                   | 4800                    | 5000                  | 39 MB            |\n",
    "| T2               | Test        | 800                   | 4800                    | 5000                  | 39 MB            |\n"
   ]
  },
  {
   "cell_type": "markdown",
   "id": "U-__SCQwFsTl",
   "metadata": {
    "id": "U-__SCQwFsTl"
   },
   "source": [
    "We obtain our data and will explain a bit about the function.\n",
    "\n",
    "This function called `get_data_files` is responsible for obtaining a list of data files based on certain parameters it receives as input. Let's look at the details:\n",
    "\n",
    "- **sub_dir:** This parameter is a string that represents the subdirectory where the data files will be searched. It is the specific directory where the relevant files are expected to be found.\n",
    "\n",
    "- **sub_dirs:** This parameter is a list of strings that contains the names of the subdirectories within `sub_dir` where the data files will be searched. This allows searching in multiple subdirectories within `sub_dir` simultaneously.\n",
    "\n",
    "- **file_extension:** This parameter is a string that specifies the file extension of the files being searched for. By default, it is set to 'pgm'.\n",
    "\n",
    "The function uses the `glob` library to perform the file search in the file system. Basically, `glob.glob()` returns a list of filenames that match a specified pattern.\n",
    "\n",
    "Inside the function, an empty list called `data` is initialized, which will be used to store the names of the files found.\n",
    "\n",
    "Then, it iterates over each `sub_dir` in `sub_dirs`. For each `sub_dir`, `glob.glob()` is used to find all files with the specified extension `(file_extension)` within the corresponding subdirectory. These filenames are stored in the variable `data_files`.\n",
    "\n",
    "Finally, the filenames found in `data_files` are added to the `data` list using the `extend()` method, which allows adding multiple elements to a list.\n",
    "\n",
    "The function returns the `data` list, which contains the names of all the files found in the specified subdirectories.\n"
   ]
  },
  {
   "cell_type": "code",
   "execution_count": null,
   "id": "40609272a7e540df",
   "metadata": {
    "ExecuteTime": {
     "end_time": "2024-05-14T03:52:35.338494Z",
     "start_time": "2024-05-14T03:52:35.325498Z"
    },
    "id": "40609272a7e540df"
   },
   "outputs": [],
   "source": [
    "def get_data_files(sub_dir: str, sub_dirs: str, file_extension: str='pgm') -> list:\n",
    "    data = []\n",
    "    for sub_dir in sub_dirs:\n",
    "        data_files = glob.glob(f\"{dataset_target_dir}/{sub_dir}/*.{file_extension}\")\n",
    "        data.extend(data_files)\n",
    "    return data"
   ]
  },
  {
   "cell_type": "markdown",
   "id": "3f63778b6c90809b",
   "metadata": {
    "id": "3f63778b6c90809b"
   },
   "source": [
    "## **Training Data**\n",
    "\n",
    "---"
   ]
  },
  {
   "cell_type": "markdown",
   "id": "gksCLyqSHBog",
   "metadata": {
    "id": "gksCLyqSHBog"
   },
   "source": [
    "Training files for the pedestrian class `(pedestrians)`.\n",
    "\n",
    "- **train_pedestrians_sub_dirs:** This is a list containing the names of the subdirectories where the pedestrian examples are located within the training dataset. Each subdirectory name is in the format `\"number/ped_examples\"`, which suggests that the pedestrian examples are organized in numbered subdirectories.\n",
    "\n",
    "- **train_pedestrians:** This line of code calls the `get_data_files()` function. It passes the main dataset directory `(dataset_target_dir)` and the list of pedestrian subdirectories `(train_pedestrians_sub_dirs)`. This function returns a list containing the names of all pedestrian example files found in the specified subdirectories.\n",
    "\n",
    "- **len(train_pedestrians):** This simply calculates the length of the `train_pedestrians` list, i.e., the total number of pedestrian example files found in the specified subdirectories.\n",
    "\n",
    "For this particular case, we have 14,400 pedestrians."
   ]
  },
  {
   "cell_type": "code",
   "execution_count": null,
   "id": "4b9ef6981f7f8746",
   "metadata": {
    "ExecuteTime": {
     "end_time": "2024-05-14T03:52:35.510497Z",
     "start_time": "2024-05-14T03:52:35.341498Z"
    },
    "colab": {
     "base_uri": "https://localhost:8080/"
    },
    "id": "4b9ef6981f7f8746",
    "outputId": "c8c80c38-c55b-4bf4-a5b2-71c6f0072e63"
   },
   "outputs": [
    {
     "data": {
      "text/plain": [
       "14400"
      ]
     },
     "execution_count": 6,
     "metadata": {},
     "output_type": "execute_result"
    }
   ],
   "source": [
    "train_pedestrians_sub_dirs = [\"1/ped_examples\", \"2/ped_examples\", \"3/ped_examples\"]\n",
    "train_pedestrians = get_data_files(dataset_target_dir, train_pedestrians_sub_dirs)\n",
    "len(train_pedestrians)"
   ]
  },
  {
   "cell_type": "markdown",
   "id": "CJ_-DqgSHb5u",
   "metadata": {
    "id": "CJ_-DqgSHb5u"
   },
   "source": [
    "For this other case, it works similarly:\n",
    "\n",
    "- **train_non_pedestrians_sub_dirs:** Similar to the previous case, this is a list containing the names of the subdirectories where the `non-pedestrian` examples are located within the training dataset.\n",
    "\n",
    "- **train_non_pedestrians:** As before, this line calls the `get_data_files()` function with the main dataset directory and the list of non-pedestrian subdirectories. This function returns a list containing the names of all non-pedestrian example files found in the specified subdirectories.\n",
    "\n",
    "- **len(train_non_pedestrians):** Again, this calculates the length of the `train_non_pedestrians` list, i.e., the total number of non-pedestrian example files found in the specified subdirectories."
   ]
  },
  {
   "cell_type": "code",
   "execution_count": null,
   "id": "9786c27512d65f4f",
   "metadata": {
    "ExecuteTime": {
     "end_time": "2024-05-14T03:52:35.651494Z",
     "start_time": "2024-05-14T03:52:35.513498Z"
    },
    "colab": {
     "base_uri": "https://localhost:8080/"
    },
    "id": "9786c27512d65f4f",
    "outputId": "d9221763-382d-48ac-9187-c50b9526d300"
   },
   "outputs": [
    {
     "data": {
      "text/plain": [
       "15000"
      ]
     },
     "execution_count": 7,
     "metadata": {},
     "output_type": "execute_result"
    }
   ],
   "source": [
    "train_non_pedestrians_sub_dirs = [\"1/non-ped_examples\", \"2/non-ped_examples\", \"3/non-ped_examples\"]\n",
    "train_non_pedestrians = get_data_files(dataset_target_dir, train_non_pedestrians_sub_dirs)\n",
    "len(train_non_pedestrians)"
   ]
  },
  {
   "cell_type": "markdown",
   "id": "df30ee783949cb71",
   "metadata": {
    "id": "df30ee783949cb71"
   },
   "source": [
    "## **Testing Data**\n",
    "\n",
    "---"
   ]
  },
  {
   "cell_type": "code",
   "execution_count": null,
   "id": "e98f49258b1190ed",
   "metadata": {
    "ExecuteTime": {
     "end_time": "2024-05-14T03:52:35.747495Z",
     "start_time": "2024-05-14T03:52:35.653498Z"
    },
    "colab": {
     "base_uri": "https://localhost:8080/"
    },
    "id": "e98f49258b1190ed",
    "outputId": "ab0be7de-bf10-4e57-d571-0d434eb3a176"
   },
   "outputs": [
    {
     "data": {
      "text/plain": [
       "9600"
      ]
     },
     "execution_count": 8,
     "metadata": {},
     "output_type": "execute_result"
    }
   ],
   "source": [
    "test_pedestrians_sub_dirs = [\"T1/ped_examples\", \"T2/ped_examples\"]\n",
    "test_pedestrians = get_data_files(dataset_target_dir, test_pedestrians_sub_dirs)\n",
    "len(test_pedestrians)"
   ]
  },
  {
   "cell_type": "code",
   "execution_count": null,
   "id": "9e5742dc2f4329f5",
   "metadata": {
    "ExecuteTime": {
     "end_time": "2024-05-14T03:52:35.842509Z",
     "start_time": "2024-05-14T03:52:35.749496Z"
    },
    "colab": {
     "base_uri": "https://localhost:8080/"
    },
    "id": "9e5742dc2f4329f5",
    "outputId": "ed56f213-68ee-4ff9-9de5-9d7d23dfdd1c"
   },
   "outputs": [
    {
     "data": {
      "text/plain": [
       "10000"
      ]
     },
     "execution_count": 9,
     "metadata": {},
     "output_type": "execute_result"
    }
   ],
   "source": [
    "test_non_pedestrians_sub_dirs = [\"T1/non-ped_examples\", \"T2/non-ped_examples\"]\n",
    "test_non_pedestrians = get_data_files(dataset_target_dir, test_non_pedestrians_sub_dirs)\n",
    "len(test_non_pedestrians)"
   ]
  },
  {
   "cell_type": "markdown",
   "id": "6e7b58f98001502d",
   "metadata": {
    "id": "6e7b58f98001502d"
   },
   "source": [
    "# 👓 **Calculation of HOG on a Single Image**\n",
    "\n",
    "---"
   ]
  },
  {
   "cell_type": "markdown",
   "id": "c306e49cc57e3e7",
   "metadata": {
    "id": "c306e49cc57e3e7"
   },
   "source": [
    "Visualization of a single pedestrian image using `cv2`, detailed below:\n",
    "\n",
    "- `cv2.imread(train_pedestrians[170], cv2.COLOR_BGR2GRAY)`: Uses the `cv2.imread()` function from **OpenCV** to read an image from the pedestrian training dataset. `train_pedestrians[170]` provides the file path of the specific image to be loaded. Additionally, `cv2.COLOR_BGR2GRAY` is specified as the second argument, indicating that the image will be loaded in grayscale. This means the image will be converted to a single-layer representation `(grayscale)` instead of a color image. The result is stored in the variable `img_pedestrian`.\n",
    "\n",
    "- `plt.imshow(img_pedestrian, cmap='gray')`: Uses the `plt.imshow()` function from **Matplotlib** to display the loaded image. `img_pedestrian` is the image to be displayed. `cmap='gray'` is specified to indicate that the image should be displayed in grayscale. This ensures that the image is shown correctly, as it was loaded in grayscale in the previous step.\n",
    "\n",
    "- `plt.show()`: This line displays the image in a viewing window.\n"
   ]
  },
  {
   "cell_type": "code",
   "execution_count": null,
   "id": "7811958d9465dd51",
   "metadata": {
    "ExecuteTime": {
     "end_time": "2024-05-14T03:52:36.096106Z",
     "start_time": "2024-05-14T03:52:35.844494Z"
    },
    "colab": {
     "base_uri": "https://localhost:8080/",
     "height": 430
    },
    "id": "7811958d9465dd51",
    "outputId": "554f52ae-bc5b-44b2-ab94-69051aca5e27"
   },
   "outputs": [
    {
     "data": {
      "image/png": "[encoded data removed]",
      "text/plain": [
       "<Figure size 640x480 with 1 Axes>"
      ]
     },
     "metadata": {},
     "output_type": "display_data"
    }
   ],
   "source": [
    "img_pedestrian = cv2.imread(train_pedestrians[170], cv2.COLOR_BGR2GRAY)\n",
    "plt.imshow(img_pedestrian, cmap='gray')\n",
    "plt.show()"
   ]
  },
  {
   "cell_type": "markdown",
   "id": "uIfcqkiWJCQ2",
   "metadata": {
    "id": "uIfcqkiWJCQ2"
   },
   "source": "Image shape visualization"
  },
  {
   "cell_type": "code",
   "execution_count": null,
   "id": "753c0a3c79bca639",
   "metadata": {
    "ExecuteTime": {
     "end_time": "2024-05-14T03:52:36.112109Z",
     "start_time": "2024-05-14T03:52:36.099110Z"
    },
    "colab": {
     "base_uri": "https://localhost:8080/"
    },
    "id": "753c0a3c79bca639",
    "outputId": "666583e7-6da9-43cc-aa30-066ca9fff8bc"
   },
   "outputs": [
    {
     "name": "stdout",
     "output_type": "stream",
     "text": [
      "(36, 18)\n"
     ]
    }
   ],
   "source": [
    "print(img_pedestrian.shape)"
   ]
  },
  {
   "cell_type": "markdown",
   "id": "t5slzfjQJVFU",
   "metadata": {
    "id": "t5slzfjQJVFU"
   },
   "source": [
    "Let's calculate the `Histogram of Oriented Gradients (HOG)` for a pedestrian image. Here is what each argument means and how it contributes to the HOG calculation:\n",
    "\n",
    "- **img_pedestrian:** This is the pedestrian image on which the HOG will be calculated. It is the image you previously loaded using `OpenCV` and converted to grayscale.\n",
    "\n",
    "- **orientations:** This parameter specifies the number of orientation bins into which the `gradient angle` will be divided. In this case, it is set to 10, meaning the `gradient angle` will be divided into `10 bins`.\n",
    "\n",
    "- **pixels_per_cell:** This parameter sets the size of the cell in which the gradient histogram will be computed. It is specified as a tuple of two values, where the first value represents the number of pixels in the horizontal direction and the second value represents the number of pixels in the vertical direction. In this case, it is set to `(6, 6)`, meaning 6x6 pixel cells will be used.\n",
    "\n",
    "- **cells_per_block:** This parameter sets the size of the block over which the gradient histograms will be normalized. It is also specified as a tuple of two values, where the first value represents the number of cells in the block in the horizontal direction and the second value represents the number of cells in the block in the vertical direction. In this case, it is set to `(2, 2)`, meaning gradient histograms will be normalized over 2x2 cell blocks.\n",
    "\n",
    "- **transform_sqrt:** This parameter indicates whether to apply a square root transformation to the histograms before normalizing them. In this case, it is set to False, meaning no additional transformation will be applied.\n",
    "\n",
    "- **visualize:** This parameter specifies whether to return an image of the gradient orientations. In this case, it is set to True, meaning an image of the gradient orientations will be computed and returned.\n",
    "\n",
    "- **feature_vector:** This parameter indicates whether to flatten the HOG result into a one-dimensional vector. In this case, it is set to True, meaning the HOG result will be returned as a one-dimensional feature vector.\n",
    "\n",
    "The result of the HOG calculation are two values:\n",
    "\n",
    "- **features:** This is the one-dimensional feature vector resulting from the HOG calculation.\n",
    "- **hog_image:** This is an image that visualizes the gradient orientations. This image can be useful for visualizing how the HOG features are being computed on the original image.\n"
   ]
  },
  {
   "cell_type": "code",
   "execution_count": null,
   "id": "4c2f082c1fca8983",
   "metadata": {
    "ExecuteTime": {
     "end_time": "2024-05-14T03:52:36.128107Z",
     "start_time": "2024-05-14T03:52:36.115108Z"
    },
    "id": "4c2f082c1fca8983"
   },
   "outputs": [],
   "source": [
    "features, hog_image = hog(img_pedestrian,\n",
    "                          orientations=10,\n",
    "                          pixels_per_cell=(6, 6),\n",
    "                          cells_per_block=(2, 2),\n",
    "                          transform_sqrt= False,\n",
    "                          visualize=True,\n",
    "                          feature_vector=True)"
   ]
  },
  {
   "cell_type": "code",
   "execution_count": null,
   "id": "d9359d2b116e790f",
   "metadata": {
    "ExecuteTime": {
     "end_time": "2024-05-14T03:52:36.144105Z",
     "start_time": "2024-05-14T03:52:36.130104Z"
    },
    "colab": {
     "base_uri": "https://localhost:8080/"
    },
    "id": "d9359d2b116e790f",
    "outputId": "c670d640-98fb-4c8b-b090-9f3f33af1930"
   },
   "outputs": [
    {
     "name": "stdout",
     "output_type": "stream",
     "text": [
      "(400,)\n"
     ]
    }
   ],
   "source": [
    "print(features.shape)"
   ]
  },
  {
   "cell_type": "code",
   "execution_count": null,
   "id": "219b4f333db4d5b5",
   "metadata": {
    "ExecuteTime": {
     "end_time": "2024-05-14T03:52:36.384108Z",
     "start_time": "2024-05-14T03:52:36.151106Z"
    },
    "colab": {
     "base_uri": "https://localhost:8080/",
     "height": 430
    },
    "id": "219b4f333db4d5b5",
    "outputId": "e3549771-be6a-4eb4-831b-3d6d89d1ba0b"
   },
   "outputs": [
    {
     "data": {
      "image/png": "[encoded data removed]",
      "text/plain": [
       "<Figure size 640x480 with 1 Axes>"
      ]
     },
     "metadata": {},
     "output_type": "display_data"
    }
   ],
   "source": [
    "plt.imshow(hog_image, cmap='gray')\n",
    "plt.show()"
   ]
  },
  {
   "cell_type": "markdown",
   "id": "4dfcd8b2fa17cb09",
   "metadata": {
    "id": "4dfcd8b2fa17cb09"
   },
   "source": [
    "# 🧐 **Extracting HOG Features for the Data**\n",
    "\n",
    "---"
   ]
  },
  {
   "cell_type": "markdown",
   "id": "e_bmRy6kKe0n",
   "metadata": {
    "id": "e_bmRy6kKe0n"
   },
   "source": [
    "Let's start by defining a function that extracts Histogram of Oriented Gradients (HOG) features from a list of images, consisting of the following parameters:\n",
    "\n",
    "- **def extract_hog_features(img_data_list: list) -> list::**\n",
    "  - **def:** Defines a new function.\n",
    "  - **extract_hog_features:** This is the name of the function.\n",
    "  - **(img_data_list: list) -> list:** Specifies that the function takes a list of image data as input and returns a list of HOG features.\n",
    "  - **hog_data = list():** Initializes an empty list called hog_data. This list will be used to store the HOG features of each processed image.\n",
    "\n",
    "- **for img_data in img_data_list::** This loop iterates over each element in the provided image data list.\n",
    "\n",
    "- **img = cv2.imread(img_data, cv2.COLOR_BGR2GRAY):** Loads the image using `OpenCV (cv2.imread())`. The parameter `cv2.COLOR_BGR2GRAY` indicates that the image will be loaded in grayscale. The loaded image is assigned to the variable img.\n",
    "\n",
    "- **img_hog_feature, img_hog_image = hog(img, orientations=10, pixels_per_cell=(6, 6), cells_per_block=(2, 2), transform_sqrt=False, visualize=True, feature_vector=True):** Computes the HOG features of the image using the `hog()` function from the `skimage.feature` module. The specified parameters are similar to those explained earlier. It returns both the HOG features `(img_hog_feature)` and an image of the gradient orientations `(img_hog_image)`.\n",
    "\n",
    "- **hog_data.append(img_hog_feature):** Adds the HOG features of the current image to the hog_data list.\n",
    "\n",
    "- **return hog_data:** Returns the hog_data list, which contains the HOG features of all processed images."
   ]
  },
  {
   "cell_type": "code",
   "execution_count": null,
   "id": "1237d3f159ef0e60",
   "metadata": {
    "ExecuteTime": {
     "end_time": "2024-05-14T03:52:36.399717Z",
     "start_time": "2024-05-14T03:52:36.385711Z"
    },
    "id": "1237d3f159ef0e60"
   },
   "outputs": [],
   "source": [
    "def extract_hog_features(img_data_list: list) -> list:\n",
    "    hog_data = list()\n",
    "    for img_data in img_data_list:\n",
    "        img = cv2.imread(img_data, cv2.COLOR_BGR2GRAY)\n",
    "        img_hog_feature, img_hog_image = hog(img,\n",
    "                                             orientations=10,\n",
    "                                             pixels_per_cell=(6, 6),\n",
    "                                             cells_per_block=(2, 2),\n",
    "                                             transform_sqrt= False,\n",
    "                                             visualize=True,\n",
    "                                             feature_vector=True)\n",
    "        hog_data.append(img_hog_feature)\n",
    "\n",
    "    return hog_data"
   ]
  },
  {
   "cell_type": "markdown",
   "id": "ivfw0T6XLVK1",
   "metadata": {
    "id": "ivfw0T6XLVK1"
   },
   "source": [
    "Now, let's prepare the training data for the support vector machine (SVM) model that will be used for pedestrian detection. To better understand the process, let's explain it:\n",
    "\n",
    "- **Extraction of HOG features for pedestrians and non-pedestrians:**\n",
    "\n",
    "  - **X_train_pedestrians = np.vstack(extract_hog_features(train_pedestrians)).astype(np.float32):** Extracts the HOG features for the pedestrian images in the training set `(train_pedestrians)`. These features are stacked vertically using `np.vstack()`, which means they are combined into a single array. They are converted to `np.float32` type to ensure calculation precision.\n",
    "  - **y_train_pedestrians = np.ones(len(X_train_pedestrians)):** Creates a label array for the pedestrian images, setting all labels to `1 (indicating they are pedestrians)`.\n",
    "\n",
    "  - **X_train_non_pedestrians = np.vstack(extract_hog_features(train_non_pedestrians)).astype(np.float32):** A similar process is performed for the non-pedestrian images `(train_non_pedestrians)`. The HOG features are extracted, stacked vertically, and converted to `np.float32` type.\n",
    "  - **y_train_non_pedestrians = np.zeros(len(X_train_non_pedestrians)):** Creates a label array for the non-pedestrian images, setting all labels to `0 (indicating they are not pedestrians)`.\n",
    "\n",
    "- **Combining pedestrian and non-pedestrian data:**\n",
    "\n",
    "  - **X_train = np.vstack((X_train_pedestrians, X_train_non_pedestrians)):** Combines the HOG features of pedestrians and non-pedestrians into a single array vertically.\n",
    "  - **y_train = np.hstack((y_train_pedestrians, y_train_non_pedestrians)):** Combines the labels of pedestrians and non-pedestrians into a single array horizontally.\n",
    "\n",
    "- **Randomizing the data:**\n",
    "\n",
    "  - **random_state = np.random.RandomState(seed=42):** Initializes a random number generator with a fixed seed to ensure reproducibility of results.\n",
    "  - **indices = random_state.permutation(len(X_train)):** Generates random indices for the training data.\n",
    "  - **X_train_shuffled = X_train[indices]:** Randomly rearranges the training feature data.\n",
    "  - **y_train_shuffled = y_train[indices]:** Rearranges the training labels according to the shuffled feature data.\n"
   ]
  },
  {
   "cell_type": "code",
   "execution_count": null,
   "id": "21cb721798e626d2",
   "metadata": {
    "ExecuteTime": {
     "end_time": "2024-05-14T03:54:47.238716Z",
     "start_time": "2024-05-14T03:52:36.402718Z"
    },
    "id": "21cb721798e626d2"
   },
   "outputs": [],
   "source": [
    "X_train_pedestrians = np.vstack(extract_hog_features(train_pedestrians)).astype(np.float32)\n",
    "y_train_pedestrians = np.ones(len(X_train_pedestrians))\n",
    "\n",
    "X_train_non_pedestrians = np.vstack(extract_hog_features(train_non_pedestrians)).astype(np.float32)\n",
    "y_train_non_pedestrians = np.zeros(len(X_train_non_pedestrians))\n",
    "\n",
    "X_train = np.vstack((X_train_pedestrians, X_train_non_pedestrians))\n",
    "y_train = np.hstack((y_train_pedestrians, y_train_non_pedestrians))\n",
    "\n",
    "# Poner datos de forma aleatoria\n",
    "random_state = np.random.RandomState(seed=42)\n",
    "indices = random_state.permutation(len(X_train))\n",
    "X_train_shuffled = X_train[indices]\n",
    "y_train_shuffled = y_train[indices]"
   ]
  },
  {
   "cell_type": "markdown",
   "id": "HfeFDiV8MXKI",
   "metadata": {
    "id": "HfeFDiV8MXKI"
   },
   "source": "Now let's remove the variables that contain the labels/features from the training set:"
  },
  {
   "cell_type": "code",
   "execution_count": null,
   "id": "1cedb36b0c813ce1",
   "metadata": {
    "ExecuteTime": {
     "end_time": "2024-05-14T03:54:47.255723Z",
     "start_time": "2024-05-14T03:54:47.240712Z"
    },
    "id": "1cedb36b0c813ce1"
   },
   "outputs": [],
   "source": [
    "del X_train\n",
    "del y_train\n",
    "del train_pedestrians\n",
    "del train_non_pedestrians"
   ]
  },
  {
   "cell_type": "markdown",
   "id": "V9OHoOEmMvKD",
   "metadata": {
    "id": "V9OHoOEmMvKD"
   },
   "source": "Next, we will prepare the test data, which works very similarly to the structure used for the training data.\n"
  },
  {
   "cell_type": "code",
   "execution_count": null,
   "id": "855dd0011f0daea5",
   "metadata": {
    "ExecuteTime": {
     "end_time": "2024-05-14T03:56:14.712712Z",
     "start_time": "2024-05-14T03:54:47.259714Z"
    },
    "id": "855dd0011f0daea5"
   },
   "outputs": [],
   "source": [
    "X_test_pedestrians = np.vstack(extract_hog_features(test_pedestrians)).astype(np.float32)\n",
    "y_test_pedestrians = np.ones(len(X_test_pedestrians))\n",
    "\n",
    "X_test_non_pedestrians = np.vstack(extract_hog_features(test_non_pedestrians)).astype(np.float32)\n",
    "y_test_non_pedestrians = np.zeros(len(X_test_non_pedestrians))\n",
    "\n",
    "X_test = np.vstack((X_test_pedestrians, X_test_non_pedestrians))\n",
    "y_test = np.hstack((y_test_pedestrians, y_test_non_pedestrians))\n",
    "\n",
    "# Poner datos de forma aleatoria\n",
    "indices = random_state.permutation(len(X_test))\n",
    "X_test_shuffled = X_test[indices]\n",
    "y_test_shuffled = y_test[indices]"
   ]
  },
  {
   "cell_type": "markdown",
   "id": "W_3SEh_GM3Lv",
   "metadata": {
    "id": "W_3SEh_GM3Lv"
   },
   "source": "We finish by removing the variables that contain the labels/features from the test set."
  },
  {
   "cell_type": "code",
   "execution_count": null,
   "id": "b27a8c1e8e06aad5",
   "metadata": {
    "ExecuteTime": {
     "end_time": "2024-05-14T03:56:14.728718Z",
     "start_time": "2024-05-14T03:56:14.714715Z"
    },
    "id": "b27a8c1e8e06aad5"
   },
   "outputs": [],
   "source": [
    "del X_test\n",
    "del y_test\n",
    "del test_pedestrians\n",
    "del test_non_pedestrians"
   ]
  },
  {
   "cell_type": "markdown",
   "id": "722bf9aa3954fd4b",
   "metadata": {
    "id": "722bf9aa3954fd4b"
   },
   "source": [
    "# 💪 **SVM Model and Training**\n",
    "\n",
    "---"
   ]
  },
  {
   "cell_type": "markdown",
   "id": "vhNfOijWNMo3",
   "metadata": {
    "id": "vhNfOijWNMo3"
   },
   "source": [
    "Let's create and train a Support Vector Machine (SVM) model using the randomized training data `X_train_shuffled` and `y_train_shuffled`, which includes the following:\n",
    "\n",
    "- **Creating the SVC model:**\n",
    "\n",
    "  - **svc_model = SVC():** Instantiates an object of the SVC class from the `sklearn.svm` module. By default, this constructor creates an SVM model with an RBF (Radial Basis Function) kernel. This model will be used to classify the input data into specific categories `(in this case, pedestrians and non-pedestrians)`.\n",
    "\n",
    "- **Training the model:**\n",
    "\n",
    "  - **svc_model.fit(X_train_shuffled, y_train_shuffled):** Uses the `fit()` method of the `svc_model` object to train the SVM model using the randomized training data `X_train_shuffled` as features and `y_train_shuffled` as labels. During training, the model learns to classify the input data into the specified categories `(1 for pedestrians and 0 for non-pedestrians)` using the Support Vector Machine algorithm."
   ]
  },
  {
   "cell_type": "code",
   "execution_count": null,
   "id": "caacafb2fb22019e",
   "metadata": {
    "ExecuteTime": {
     "end_time": "2024-05-14T04:01:07.737004Z",
     "start_time": "2024-05-14T03:57:49.063050Z"
    },
    "colab": {
     "base_uri": "https://localhost:8080/",
     "height": 74
    },
    "id": "caacafb2fb22019e",
    "outputId": "19c08971-59fd-4cf9-ff00-ee16cd1b4395"
   },
   "outputs": [
    {
     "data": {
      "text/html": [
       "<style>#sk-container-id-1 {color: black;}#sk-container-id-1 pre{padding: 0;}#sk-container-id-1 div.sk-toggleable {background-color: white;}#sk-container-id-1 label.sk-toggleable__label {cursor: pointer;display: block;width: 100%;margin-bottom: 0;padding: 0.3em;box-sizing: border-box;text-align: center;}#sk-container-id-1 label.sk-toggleable__label-arrow:before {content: \"▸\";float: left;margin-right: 0.25em;color: #696969;}#sk-container-id-1 label.sk-toggleable__label-arrow:hover:before {color: black;}#sk-container-id-1 div.sk-estimator:hover label.sk-toggleable__label-arrow:before {color: black;}#sk-container-id-1 div.sk-toggleable__content {max-height: 0;max-width: 0;overflow: hidden;text-align: left;background-color: #f0f8ff;}#sk-container-id-1 div.sk-toggleable__content pre {margin: 0.2em;color: black;border-radius: 0.25em;background-color: #f0f8ff;}#sk-container-id-1 input.sk-toggleable__control:checked~div.sk-toggleable__content {max-height: 200px;max-width: 100%;overflow: auto;}#sk-container-id-1 input.sk-toggleable__control:checked~label.sk-toggleable__label-arrow:before {content: \"▾\";}#sk-container-id-1 div.sk-estimator input.sk-toggleable__control:checked~label.sk-toggleable__label {background-color: #d4ebff;}#sk-container-id-1 div.sk-label input.sk-toggleable__control:checked~label.sk-toggleable__label {background-color: #d4ebff;}#sk-container-id-1 input.sk-hidden--visually {border: 0;clip: rect(1px 1px 1px 1px);clip: rect(1px, 1px, 1px, 1px);height: 1px;margin: -1px;overflow: hidden;padding: 0;position: absolute;width: 1px;}#sk-container-id-1 div.sk-estimator {font-family: monospace;background-color: #f0f8ff;border: 1px dotted black;border-radius: 0.25em;box-sizing: border-box;margin-bottom: 0.5em;}#sk-container-id-1 div.sk-estimator:hover {background-color: #d4ebff;}#sk-container-id-1 div.sk-parallel-item::after {content: \"\";width: 100%;border-bottom: 1px solid gray;flex-grow: 1;}#sk-container-id-1 div.sk-label:hover label.sk-toggleable__label {background-color: #d4ebff;}#sk-container-id-1 div.sk-serial::before {content: \"\";position: absolute;border-left: 1px solid gray;box-sizing: border-box;top: 0;bottom: 0;left: 50%;z-index: 0;}#sk-container-id-1 div.sk-serial {display: flex;flex-direction: column;align-items: center;background-color: white;padding-right: 0.2em;padding-left: 0.2em;position: relative;}#sk-container-id-1 div.sk-item {position: relative;z-index: 1;}#sk-container-id-1 div.sk-parallel {display: flex;align-items: stretch;justify-content: center;background-color: white;position: relative;}#sk-container-id-1 div.sk-item::before, #sk-container-id-1 div.sk-parallel-item::before {content: \"\";position: absolute;border-left: 1px solid gray;box-sizing: border-box;top: 0;bottom: 0;left: 50%;z-index: -1;}#sk-container-id-1 div.sk-parallel-item {display: flex;flex-direction: column;z-index: 1;position: relative;background-color: white;}#sk-container-id-1 div.sk-parallel-item:first-child::after {align-self: flex-end;width: 50%;}#sk-container-id-1 div.sk-parallel-item:last-child::after {align-self: flex-start;width: 50%;}#sk-container-id-1 div.sk-parallel-item:only-child::after {width: 0;}#sk-container-id-1 div.sk-dashed-wrapped {border: 1px dashed gray;margin: 0 0.4em 0.5em 0.4em;box-sizing: border-box;padding-bottom: 0.4em;background-color: white;}#sk-container-id-1 div.sk-label label {font-family: monospace;font-weight: bold;display: inline-block;line-height: 1.2em;}#sk-container-id-1 div.sk-label-container {text-align: center;}#sk-container-id-1 div.sk-container {/* jupyter's `normalize.less` sets `[hidden] { display: none; }` but bootstrap.min.css set `[hidden] { display: none !important; }` so we also need the `!important` here to be able to override the default hidden behavior on the sphinx rendered scikit-learn.org. See: https://github.com/scikit-learn/scikit-learn/issues/21755 */display: inline-block !important;position: relative;}#sk-container-id-1 div.sk-text-repr-fallback {display: none;}</style><div id=\"sk-container-id-1\" class=\"sk-top-container\"><div class=\"sk-text-repr-fallback\"><pre>SVC()</pre><b>In a Jupyter environment, please rerun this cell to show the HTML representation or trust the notebook. <br />On GitHub, the HTML representation is unable to render, please try loading this page with nbviewer.org.</b></div><div class=\"sk-container\" hidden><div class=\"sk-item\"><div class=\"sk-estimator sk-toggleable\"><input class=\"sk-toggleable__control sk-hidden--visually\" id=\"sk-estimator-id-1\" type=\"checkbox\" checked><label for=\"sk-estimator-id-1\" class=\"sk-toggleable__label sk-toggleable__label-arrow\">SVC</label><div class=\"sk-toggleable__content\"><pre>SVC()</pre></div></div></div></div></div>"
      ],
      "text/plain": [
       "SVC()"
      ]
     },
     "execution_count": 20,
     "metadata": {},
     "output_type": "execute_result"
    }
   ],
   "source": [
    "svc_model = SVC()\n",
    "svc_model.fit(X_train_shuffled, y_train_shuffled)"
   ]
  },
  {
   "cell_type": "markdown",
   "id": "6bOebliuNvPA",
   "metadata": {
    "id": "6bOebliuNvPA"
   },
   "source": [
    "Now let's make predictions on the randomized test data `X_test_shuffled`:\n",
    "\n",
    "- **y_pred = svc_model.predict(X_test_shuffled):** Uses the `predict()` method of the `svc_model` to make predictions on the randomized test features `X_test_shuffled`. This method takes the test features as input and returns the predicted labels for those features."
   ]
  },
  {
   "cell_type": "code",
   "execution_count": null,
   "id": "18336c6998f92e19",
   "metadata": {
    "ExecuteTime": {
     "end_time": "2024-05-14T04:04:23.612103Z",
     "start_time": "2024-05-14T04:01:41.671041Z"
    },
    "id": "18336c6998f92e19"
   },
   "outputs": [],
   "source": [
    "y_pred = svc_model.predict(X_test_shuffled)"
   ]
  },
  {
   "cell_type": "code",
   "execution_count": null,
   "id": "0aa9347e",
   "metadata": {
    "id": "0aa9347e",
    "outputId": "d2b10dd5-99a3-40ed-de43-ef7fc5d19185"
   },
   "outputs": [
    {
     "data": {
      "text/plain": [
       "['svc_model.pkl']"
      ]
     },
     "execution_count": 37,
     "metadata": {},
     "output_type": "execute_result"
    }
   ],
   "source": [
    "# Guardar el modelo resultante\n",
    "joblib.dump(svc_model, 'svc_model.pkl')"
   ]
  },
  {
   "cell_type": "markdown",
   "id": "R2crTVv_N9Sb",
   "metadata": {
    "id": "R2crTVv_N9Sb"
   },
   "source": [
    "# 🔎 **Model Metrics Validation**\n",
    "\n",
    "---"
   ]
  },
  {
   "cell_type": "markdown",
   "id": "DfVVmB6BOkeO",
   "metadata": {
    "id": "DfVVmB6BOkeO"
   },
   "source": [
    "Let's generate a confusion matrix and visualize it as a heatmap using the Seaborn and Matplotlib libraries, as follows:\n",
    "\n",
    "- **cm = confusion_matrix(y_test_shuffled, y_pred, labels=[0, 1]):** Calculates the confusion matrix using the `confusion_matrix()` function from `Scikit-learn`. This matrix compares the true labels `y_test_shuffled` with the predicted labels `y_pred`. The confusion matrix is a tool that shows **the number of correct and incorrect predictions** for each class `(in this case, 0 for non-pedestrians and 1 for pedestrians)`. The `labels=[0, 1]` parameter is used to specify the order of the labels in the confusion matrix.\n",
    "\n",
    "- **sns.heatmap(cm, annot=True, fmt='g', cmap='Purples', cbar=False):** Uses the `heatmap()` function from Seaborn to visualize the confusion matrix `cm` as a heatmap. The parameters used are:\n",
    "\n",
    "  - **cm:** The confusion matrix to visualize.\n",
    "  - **annot=True:** Adds annotations to the cells of the heatmap to show the values of the confusion matrix.\n",
    "  - **fmt='g':** Sets the format of the annotations to general format.\n",
    "  - **cmap='Purples':** Uses the 'Purples' color scheme for the heatmap, which is a color palette ranging from light to dark purple tones.\n",
    "  - **cbar=False:** Disables the side color bar in the heatmap.\n",
    "  - **plt.show():** Displays the generated heatmap using the `show()` function from Matplotlib."
   ]
  },
  {
   "cell_type": "code",
   "execution_count": null,
   "id": "b7e7f612d07e7d14",
   "metadata": {
    "ExecuteTime": {
     "end_time": "2024-05-14T04:04:39.796788Z",
     "start_time": "2024-05-14T04:04:39.644756Z"
    },
    "colab": {
     "base_uri": "https://localhost:8080/",
     "height": 430
    },
    "id": "b7e7f612d07e7d14",
    "outputId": "72400ba0-b88e-4d41-9153-5b6cb0b00ed9"
   },
   "outputs": [
    {
     "data": {
      "image/png": "[encoded data removed]",
      "text/plain": [
       "<Figure size 640x480 with 1 Axes>"
      ]
     },
     "metadata": {},
     "output_type": "display_data"
    }
   ],
   "source": [
    "cm = confusion_matrix(y_test_shuffled, y_pred, labels=[0, 1])\n",
    "sns.heatmap(cm,  annot=True, fmt='g', cmap='Purples', cbar=False)\n",
    "plt.show()"
   ]
  },
  {
   "cell_type": "markdown",
   "id": "LvmZ4hMPPkTA",
   "metadata": {
    "id": "LvmZ4hMPPkTA"
   },
   "source": [
    "- **True Negatives (TN): 9559**\n",
    "\n",
    "  These are cases where the model correctly predicted that the samples did not belong to the pedestrian class (negative class).\n",
    "\n",
    "- **False Positives (FP): 441**\n",
    "\n",
    "  These are cases where the model incorrectly predicted that the samples belonged to the pedestrian class when they actually did not. That is, the model gave a positive result when the truth was negative.\n",
    "\n",
    "- **False Negatives (FN): 1464**\n",
    "\n",
    "  These are cases where the model incorrectly predicted that the samples did not belong to the pedestrian class when they actually did. That is, the model gave a negative result when the truth was positive.\n",
    "\n",
    "- **True Positives (TP): 8136**\n",
    "\n",
    "  These are cases where the model correctly predicted that the samples belonged to the pedestrian class (positive class).\n",
    "\n",
    "To interpret these results:\n",
    "\n",
    "- The model correctly classified `9559` samples as `non-pedestrians`.\n",
    "- The model incorrectly classified `441` samples as `pedestrians` when they actually were `not`.\n",
    "- The model incorrectly classified `1464` samples as `non-pedestrians` when they actually were `pedestrians`.\n",
    "- The model correctly classified `8136` samples as `pedestrians`.\n"
   ]
  },
  {
   "cell_type": "code",
   "execution_count": null,
   "id": "b343763430b3644e",
   "metadata": {
    "ExecuteTime": {
     "end_time": "2024-05-14T04:04:43.402335Z",
     "start_time": "2024-05-14T04:04:43.381332Z"
    },
    "colab": {
     "base_uri": "https://localhost:8080/"
    },
    "id": "b343763430b3644e",
    "outputId": "6faf37ee-fcc2-4607-a9df-72e92695640a"
   },
   "outputs": [
    {
     "name": "stdout",
     "output_type": "stream",
     "text": [
      "[[9559  441]\n",
      " [1464 8136]]\n"
     ]
    }
   ],
   "source": [
    "print(cm)"
   ]
  },
  {
   "cell_type": "code",
   "execution_count": null,
   "id": "170f3d7f8c833a3d",
   "metadata": {
    "ExecuteTime": {
     "end_time": "2024-05-14T04:04:46.366716Z",
     "start_time": "2024-05-14T04:04:46.313683Z"
    },
    "colab": {
     "base_uri": "https://localhost:8080/"
    },
    "id": "170f3d7f8c833a3d",
    "outputId": "bd51510a-3974-4d4e-c187-dc24a7b30f73"
   },
   "outputs": [
    {
     "name": "stdout",
     "output_type": "stream",
     "text": [
      "              precision    recall  f1-score   support\n",
      "\n",
      "         0.0       0.87      0.96      0.91     10000\n",
      "         1.0       0.95      0.85      0.90      9600\n",
      "\n",
      "    accuracy                           0.90     19600\n",
      "   macro avg       0.91      0.90      0.90     19600\n",
      "weighted avg       0.91      0.90      0.90     19600\n",
      "\n"
     ]
    }
   ],
   "source": [
    "print(classification_report(y_test_shuffled, y_pred))"
   ]
  },
  {
   "cell_type": "markdown",
   "id": "qFIL3e3BQS0i",
   "metadata": {
    "id": "qFIL3e3BQS0i"
   },
   "source": [
    "These metrics provide a detailed assessment of the model's performance in terms of precision, recall, F1-score, and weighted average.\n",
    "\n",
    "- **Precision:** It is the ratio of correctly classified positive cases among all cases classified as positive. For class `0 (non-pedestrians)`, the precision is `0.87`, which means that `87%` of the samples classified as **non-pedestrians are indeed non-pedestrians**. For `class 1 (pedestrians)`, the precision is `0.95`, meaning that `95%` of the samples classified as **pedestrians are indeed pedestrians**.\n",
    "\n",
    "- **Recall:** It is the ratio of correctly classified positive cases among all cases that are actually positive. For class `0`, the recall is `0.96`, meaning that `96%` of the non-pedestrian samples were correctly identified as non-pedestrians. For class `1`, the recall is `0.85`, indicating that `85%` of the pedestrian samples were correctly identified as pedestrians.\n",
    "\n",
    "- **F1-score:** It is the harmonic mean of precision and recall. It represents the weighted accuracy and recall of the model in a single metric. For class 0, the F1-score is 0.91, and for class 1, it is 0.90.\n",
    "\n",
    "- **Accuracy:** It is the ratio of samples correctly classified among all samples. In this case, the accuracy is `0.90`, which means that `90%` of all samples were correctly classified by the model.\n",
    "\n",
    "- **Support:** It is the actual number of occurrences of each class in the test dataset. For class `0 (non-pedestrians)`, the support is 10000, indicating there are 10000 samples in the test dataset that belong to the non-pedestrian class. For class `1 (pedestrians)`, the support is 9600, indicating there are 9600 samples in the test dataset that belong to the pedestrian class.\n",
    "\n",
    "- **Macro avg:** It is the simple average of the metrics for all classes. In this case, it is the average of precision, recall, and F1-score for both classes.\n",
    "\n",
    "- **Weighted avg:** It is the weighted average of the metrics for all classes, where the weight is the support of each class. In this case, it is the weighted average of precision, recall, and F1-score for both classes, using the support of each class as weight."
   ]
  },
  {
   "cell_type": "markdown",
   "id": "468497095eebb94",
   "metadata": {
    "id": "468497095eebb94"
   },
   "source": [
    "# 📈 **Grid Search**\n",
    "\n",
    "---"
   ]
  },
  {
   "cell_type": "markdown",
   "id": "5a67ab94",
   "metadata": {
    "id": "5a67ab94"
   },
   "source": [
    "Next, this block of code defines a dictionary called `param_grid` that contains a grid of `hyperparameters` to be explored during the `hyperparameter` search through `cross-validation` in the process of fitting the Support Vector Machine (SVM) model.\n",
    "\n",
    "- **'C':** This parameter controls the penalty for classification errors. A smaller value of C implies stronger regularization, leading to a smoother decision boundary. The specified values are `[1, 10, 100, 1000]`, indicating that the hyperparameter search will test these values for the C parameter.\n",
    "\n",
    "- **'gamma':** This parameter controls the width of the Gaussian kernel. A smaller value of gamma means that the radius of influence of the training examples is larger, leading to a smoother and less complex decision boundary. The specified values are `[0.0001, 0.001, 0.01, 0.1, 1]`, indicating that the hyperparameter search will test these values for the gamma parameter.\n",
    "\n",
    "- **'kernel':** This parameter specifies the type of kernel to use in the SVM model. In this case, the radial basis function (RBF) kernel is used, which is one of the most commonly used kernels in SVM. The specified value is `['rbf']`, indicating that only the radial kernel will be tested during the hyperparameter search.\n"
   ]
  },
  {
   "cell_type": "code",
   "execution_count": null,
   "id": "4d24c3286727cd56",
   "metadata": {
    "ExecuteTime": {
     "end_time": "2024-05-14T04:05:19.412764Z",
     "start_time": "2024-05-14T04:05:19.403761Z"
    },
    "id": "4d24c3286727cd56"
   },
   "outputs": [],
   "source": [
    "param_grid = {'C': [1, 10, 100, 1000], 'gamma': [0.0001, 0.001, 0.01, 0.1, 1], 'kernel': ['rbf']}"
   ]
  },
  {
   "cell_type": "markdown",
   "id": "91e811be",
   "metadata": {
    "id": "91e811be"
   },
   "source": [
    "Now, let's perform an exhaustive hyperparameter search using cross-validation to find the best combination of hyperparameters for the Support Vector Machine (SVC) model.\n",
    "\n",
    "**GridSearchCV(SVC(), param_grid, refit=True, verbose=4):**\n",
    "\n",
    "- **SVC():** This is the estimator on which the hyperparameter search is performed. In this case, `SVC()` is used for a Support Vector Machine (SVM) model.\n",
    "- **param_grid:** This is the dictionary that contains the grid of hyperparameters to be explored. It is defined earlier and contains combinations of values for the hyperparameters C, gamma, and kernel.\n",
    "- **refit=True:** This parameter indicates that the best estimator found with the best hyperparameters will be fitted to the entire training set once the search is complete.\n",
    "- **verbose=4:** This parameter controls the verbosity level of the output during the fitting process. A value of 4 indicates that a message will be printed for each hyperparameter combination during the search.\n",
    "\n",
    "**grid_search.fit(X_train_shuffled, y_train_shuffled):**\n",
    "\n",
    "This method starts the hyperparameter search process and fits the model to the randomized training data `(X_train_shuffled and y_train_shuffled)` using cross-validation.\n",
    "\n",
    "Regarding execution time, it is difficult to give a precise estimate without knowing the size of the data and the complexity of the model. However, exhaustive hyperparameter search can be computationally expensive, especially with a large number of hyperparameter combinations and a large dataset. The execution time will also depend on your hardware's processing capability. In this case, since the exhaustive search involves testing multiple hyperparameter combinations and fitting the model for each of them, the execution time may be long.\n"
   ]
  },
  {
   "cell_type": "code",
   "execution_count": null,
   "id": "11364773617ea3a8",
   "metadata": {
    "ExecuteTime": {
     "start_time": "2024-05-14T04:06:04.265779Z"
    },
    "colab": {
     "base_uri": "https://localhost:8080/",
     "height": 720
    },
    "id": "11364773617ea3a8",
    "jupyter": {
     "is_executing": true
    },
    "outputId": "ba78733f-3afd-4a1e-aa44-abf361f6f9fc"
   },
   "outputs": [
    {
     "name": "stdout",
     "output_type": "stream",
     "text": [
      "Fitting 5 folds for each of 20 candidates, totalling 100 fits\n",
      "[CV 1/5] END .....C=1, gamma=0.0001, kernel=rbf;, score=0.554 total time= 3.4min\n",
      "[CV 2/5] END .....C=1, gamma=0.0001, kernel=rbf;, score=0.550 total time= 3.5min\n",
      "[CV 3/5] END .....C=1, gamma=0.0001, kernel=rbf;, score=0.554 total time= 3.5min\n",
      "[CV 4/5] END .....C=1, gamma=0.0001, kernel=rbf;, score=0.550 total time= 3.5min\n",
      "[CV 5/5] END .....C=1, gamma=0.0001, kernel=rbf;, score=0.548 total time= 3.4min\n",
      "[CV 1/5] END ......C=1, gamma=0.001, kernel=rbf;, score=0.864 total time= 2.6min\n",
      "[CV 2/5] END ......C=1, gamma=0.001, kernel=rbf;, score=0.855 total time= 2.6min\n",
      "[CV 3/5] END ......C=1, gamma=0.001, kernel=rbf;, score=0.848 total time= 2.6min\n",
      "[CV 4/5] END ......C=1, gamma=0.001, kernel=rbf;, score=0.856 total time= 2.6min\n",
      "[CV 5/5] END ......C=1, gamma=0.001, kernel=rbf;, score=0.853 total time= 2.5min\n",
      "[CV 1/5] END .......C=1, gamma=0.01, kernel=rbf;, score=0.896 total time= 1.6min\n",
      "[CV 2/5] END .......C=1, gamma=0.01, kernel=rbf;, score=0.884 total time= 1.6min\n",
      "[CV 3/5] END .......C=1, gamma=0.01, kernel=rbf;, score=0.880 total time= 1.6min\n",
      "[CV 4/5] END .......C=1, gamma=0.01, kernel=rbf;, score=0.887 total time= 1.6min\n",
      "[CV 5/5] END .......C=1, gamma=0.01, kernel=rbf;, score=0.884 total time= 1.6min\n",
      "[CV 1/5] END ........C=1, gamma=0.1, kernel=rbf;, score=0.946 total time= 1.1min\n",
      "[CV 2/5] END ........C=1, gamma=0.1, kernel=rbf;, score=0.942 total time= 1.1min\n",
      "[CV 3/5] END ........C=1, gamma=0.1, kernel=rbf;, score=0.940 total time= 1.1min\n",
      "[CV 4/5] END ........C=1, gamma=0.1, kernel=rbf;, score=0.942 total time= 1.2min\n",
      "[CV 5/5] END ........C=1, gamma=0.1, kernel=rbf;, score=0.941 total time= 1.1min\n",
      "[CV 1/5] END ..........C=1, gamma=1, kernel=rbf;, score=0.962 total time= 7.3min\n",
      "[CV 2/5] END ..........C=1, gamma=1, kernel=rbf;, score=0.957 total time= 7.1min\n",
      "[CV 3/5] END ..........C=1, gamma=1, kernel=rbf;, score=0.959 total time= 7.1min\n",
      "[CV 4/5] END ..........C=1, gamma=1, kernel=rbf;, score=0.960 total time= 7.0min\n",
      "[CV 5/5] END ..........C=1, gamma=1, kernel=rbf;, score=0.956 total time= 7.1min\n",
      "[CV 1/5] END ....C=10, gamma=0.0001, kernel=rbf;, score=0.863 total time= 2.6min\n",
      "[CV 2/5] END ....C=10, gamma=0.0001, kernel=rbf;, score=0.855 total time= 2.6min\n",
      "[CV 3/5] END ....C=10, gamma=0.0001, kernel=rbf;, score=0.847 total time= 2.7min\n",
      "[CV 4/5] END ....C=10, gamma=0.0001, kernel=rbf;, score=0.856 total time= 2.7min\n",
      "[CV 5/5] END ....C=10, gamma=0.0001, kernel=rbf;, score=0.852 total time= 2.7min\n",
      "[CV 1/5] END .....C=10, gamma=0.001, kernel=rbf;, score=0.890 total time= 1.8min\n",
      "[CV 2/5] END .....C=10, gamma=0.001, kernel=rbf;, score=0.878 total time= 1.7min\n",
      "[CV 3/5] END .....C=10, gamma=0.001, kernel=rbf;, score=0.875 total time= 1.8min\n",
      "[CV 4/5] END .....C=10, gamma=0.001, kernel=rbf;, score=0.883 total time= 1.7min\n",
      "[CV 5/5] END .....C=10, gamma=0.001, kernel=rbf;, score=0.876 total time= 1.7min\n",
      "[CV 1/5] END ......C=10, gamma=0.01, kernel=rbf;, score=0.916 total time= 1.3min\n",
      "[CV 2/5] END ......C=10, gamma=0.01, kernel=rbf;, score=0.904 total time= 1.3min\n",
      "[CV 3/5] END ......C=10, gamma=0.01, kernel=rbf;, score=0.906 total time= 1.3min\n",
      "[CV 4/5] END ......C=10, gamma=0.01, kernel=rbf;, score=0.908 total time= 1.3min\n",
      "[CV 5/5] END ......C=10, gamma=0.01, kernel=rbf;, score=0.903 total time= 1.3min\n",
      "[CV 1/5] END .......C=10, gamma=0.1, kernel=rbf;, score=0.967 total time= 2.5min\n",
      "[CV 2/5] END .......C=10, gamma=0.1, kernel=rbf;, score=0.964 total time= 2.4min\n",
      "[CV 3/5] END .......C=10, gamma=0.1, kernel=rbf;, score=0.965 total time= 2.5min\n",
      "[CV 4/5] END .......C=10, gamma=0.1, kernel=rbf;, score=0.968 total time= 2.4min\n",
      "[CV 5/5] END .......C=10, gamma=0.1, kernel=rbf;, score=0.966 total time= 2.5min\n",
      "[CV 1/5] END .........C=10, gamma=1, kernel=rbf;, score=0.964 total time= 7.1min\n",
      "[CV 2/5] END .........C=10, gamma=1, kernel=rbf;, score=0.960 total time= 7.0min\n",
      "[CV 3/5] END .........C=10, gamma=1, kernel=rbf;, score=0.962 total time= 7.0min\n",
      "[CV 4/5] END .........C=10, gamma=1, kernel=rbf;, score=0.962 total time= 6.9min\n",
      "[CV 5/5] END .........C=10, gamma=1, kernel=rbf;, score=0.959 total time= 6.9min\n",
      "[CV 1/5] END ...C=100, gamma=0.0001, kernel=rbf;, score=0.890 total time= 1.6min\n",
      "[CV 2/5] END ...C=100, gamma=0.0001, kernel=rbf;, score=0.878 total time= 1.6min\n",
      "[CV 3/5] END ...C=100, gamma=0.0001, kernel=rbf;, score=0.874 total time= 1.5min\n",
      "[CV 4/5] END ...C=100, gamma=0.0001, kernel=rbf;, score=0.882 total time= 1.6min\n",
      "[CV 5/5] END ...C=100, gamma=0.0001, kernel=rbf;, score=0.875 total time= 1.6min\n",
      "[CV 1/5] END ....C=100, gamma=0.001, kernel=rbf;, score=0.899 total time= 1.2min\n",
      "[CV 2/5] END ....C=100, gamma=0.001, kernel=rbf;, score=0.885 total time= 1.2min\n",
      "[CV 3/5] END ....C=100, gamma=0.001, kernel=rbf;, score=0.884 total time= 1.2min\n",
      "[CV 4/5] END ....C=100, gamma=0.001, kernel=rbf;, score=0.890 total time= 1.2min\n",
      "[CV 5/5] END ....C=100, gamma=0.001, kernel=rbf;, score=0.885 total time= 1.2min\n",
      "[CV 1/5] END .....C=100, gamma=0.01, kernel=rbf;, score=0.949 total time= 1.6min\n",
      "[CV 2/5] END .....C=100, gamma=0.01, kernel=rbf;, score=0.948 total time= 1.5min\n",
      "[CV 3/5] END .....C=100, gamma=0.01, kernel=rbf;, score=0.946 total time= 1.5min\n",
      "[CV 4/5] END .....C=100, gamma=0.01, kernel=rbf;, score=0.948 total time= 1.5min\n",
      "[CV 5/5] END .....C=100, gamma=0.01, kernel=rbf;, score=0.945 total time= 1.5min\n",
      "[CV 1/5] END ......C=100, gamma=0.1, kernel=rbf;, score=0.970 total time= 2.7min\n",
      "[CV 2/5] END ......C=100, gamma=0.1, kernel=rbf;, score=0.966 total time= 2.6min\n",
      "[CV 3/5] END ......C=100, gamma=0.1, kernel=rbf;, score=0.965 total time= 2.6min\n",
      "[CV 4/5] END ......C=100, gamma=0.1, kernel=rbf;, score=0.969 total time= 2.7min\n",
      "[CV 5/5] END ......C=100, gamma=0.1, kernel=rbf;, score=0.967 total time= 2.7min\n",
      "[CV 1/5] END ........C=100, gamma=1, kernel=rbf;, score=0.964 total time= 6.9min\n",
      "[CV 2/5] END ........C=100, gamma=1, kernel=rbf;, score=0.960 total time= 6.8min\n",
      "[CV 3/5] END ........C=100, gamma=1, kernel=rbf;, score=0.962 total time= 6.9min\n",
      "[CV 4/5] END ........C=100, gamma=1, kernel=rbf;, score=0.962 total time= 6.8min\n",
      "[CV 5/5] END ........C=100, gamma=1, kernel=rbf;, score=0.959 total time= 6.9min\n",
      "[CV 1/5] END ..C=1000, gamma=0.0001, kernel=rbf;, score=0.897 total time= 1.2min\n",
      "[CV 2/5] END ..C=1000, gamma=0.0001, kernel=rbf;, score=0.880 total time= 1.2min\n",
      "[CV 3/5] END ..C=1000, gamma=0.0001, kernel=rbf;, score=0.882 total time= 1.2min\n",
      "[CV 4/5] END ..C=1000, gamma=0.0001, kernel=rbf;, score=0.888 total time= 1.2min\n",
      "[CV 5/5] END ..C=1000, gamma=0.0001, kernel=rbf;, score=0.882 total time= 1.2min\n",
      "[CV 1/5] END ...C=1000, gamma=0.001, kernel=rbf;, score=0.912 total time= 1.9min\n",
      "[CV 2/5] END ...C=1000, gamma=0.001, kernel=rbf;, score=0.904 total time= 1.8min\n",
      "[CV 3/5] END ...C=1000, gamma=0.001, kernel=rbf;, score=0.906 total time= 1.9min\n",
      "[CV 4/5] END ...C=1000, gamma=0.001, kernel=rbf;, score=0.909 total time= 1.8min\n",
      "[CV 5/5] END ...C=1000, gamma=0.001, kernel=rbf;, score=0.901 total time= 1.8min\n",
      "[CV 1/5] END ....C=1000, gamma=0.01, kernel=rbf;, score=0.961 total time= 4.3min\n",
      "[CV 2/5] END ....C=1000, gamma=0.01, kernel=rbf;, score=0.961 total time= 4.2min\n",
      "[CV 3/5] END ....C=1000, gamma=0.01, kernel=rbf;, score=0.960 total time= 4.3min\n",
      "[CV 4/5] END ....C=1000, gamma=0.01, kernel=rbf;, score=0.963 total time= 4.3min\n",
      "[CV 5/5] END ....C=1000, gamma=0.01, kernel=rbf;, score=0.962 total time= 4.3min\n",
      "[CV 1/5] END .....C=1000, gamma=0.1, kernel=rbf;, score=0.970 total time= 2.7min\n",
      "[CV 2/5] END .....C=1000, gamma=0.1, kernel=rbf;, score=0.966 total time= 2.6min\n",
      "[CV 3/5] END .....C=1000, gamma=0.1, kernel=rbf;, score=0.965 total time= 2.6min\n",
      "[CV 4/5] END .....C=1000, gamma=0.1, kernel=rbf;, score=0.969 total time= 2.7min\n",
      "[CV 5/5] END .....C=1000, gamma=0.1, kernel=rbf;, score=0.967 total time= 2.7min\n",
      "[CV 1/5] END .......C=1000, gamma=1, kernel=rbf;, score=0.964 total time= 6.9min\n",
      "[CV 2/5] END .......C=1000, gamma=1, kernel=rbf;, score=0.960 total time= 6.8min\n",
      "[CV 3/5] END .......C=1000, gamma=1, kernel=rbf;, score=0.962 total time= 6.9min\n",
      "[CV 4/5] END .......C=1000, gamma=1, kernel=rbf;, score=0.962 total time= 6.8min\n",
      "[CV 5/5] END .......C=1000, gamma=1, kernel=rbf;, score=0.959 total time= 6.9min\n"
     ]
    },
    {
     "data": {
      "text/html": [
       "<style>#sk-container-id-2 {color: black;}#sk-container-id-2 pre{padding: 0;}#sk-container-id-2 div.sk-toggleable {background-color: white;}#sk-container-id-2 label.sk-toggleable__label {cursor: pointer;display: block;width: 100%;margin-bottom: 0;padding: 0.3em;box-sizing: border-box;text-align: center;}#sk-container-id-2 label.sk-toggleable__label-arrow:before {content: \"▸\";float: left;margin-right: 0.25em;color: #696969;}#sk-container-id-2 label.sk-toggleable__label-arrow:hover:before {color: black;}#sk-container-id-2 div.sk-estimator:hover label.sk-toggleable__label-arrow:before {color: black;}#sk-container-id-2 div.sk-toggleable__content {max-height: 0;max-width: 0;overflow: hidden;text-align: left;background-color: #f0f8ff;}#sk-container-id-2 div.sk-toggleable__content pre {margin: 0.2em;color: black;border-radius: 0.25em;background-color: #f0f8ff;}#sk-container-id-2 input.sk-toggleable__control:checked~div.sk-toggleable__content {max-height: 200px;max-width: 100%;overflow: auto;}#sk-container-id-2 input.sk-toggleable__control:checked~label.sk-toggleable__label-arrow:before {content: \"▾\";}#sk-container-id-2 div.sk-estimator input.sk-toggleable__control:checked~label.sk-toggleable__label {background-color: #d4ebff;}#sk-container-id-2 div.sk-label input.sk-toggleable__control:checked~label.sk-toggleable__label {background-color: #d4ebff;}#sk-container-id-2 input.sk-hidden--visually {border: 0;clip: rect(1px 1px 1px 1px);clip: rect(1px, 1px, 1px, 1px);height: 1px;margin: -1px;overflow: hidden;padding: 0;position: absolute;width: 1px;}#sk-container-id-2 div.sk-estimator {font-family: monospace;background-color: #f0f8ff;border: 1px dotted black;border-radius: 0.25em;box-sizing: border-box;margin-bottom: 0.5em;}#sk-container-id-2 div.sk-estimator:hover {background-color: #d4ebff;}#sk-container-id-2 div.sk-parallel-item::after {content: \"\";width: 100%;border-bottom: 1px solid gray;flex-grow: 1;}#sk-container-id-2 div.sk-label:hover label.sk-toggleable__label {background-color: #d4ebff;}#sk-container-id-2 div.sk-serial::before {content: \"\";position: absolute;border-left: 1px solid gray;box-sizing: border-box;top: 0;bottom: 0;left: 50%;z-index: 0;}#sk-container-id-2 div.sk-serial {display: flex;flex-direction: column;align-items: center;background-color: white;padding-right: 0.2em;padding-left: 0.2em;position: relative;}#sk-container-id-2 div.sk-item {position: relative;z-index: 1;}#sk-container-id-2 div.sk-parallel {display: flex;align-items: stretch;justify-content: center;background-color: white;position: relative;}#sk-container-id-2 div.sk-item::before, #sk-container-id-2 div.sk-parallel-item::before {content: \"\";position: absolute;border-left: 1px solid gray;box-sizing: border-box;top: 0;bottom: 0;left: 50%;z-index: -1;}#sk-container-id-2 div.sk-parallel-item {display: flex;flex-direction: column;z-index: 1;position: relative;background-color: white;}#sk-container-id-2 div.sk-parallel-item:first-child::after {align-self: flex-end;width: 50%;}#sk-container-id-2 div.sk-parallel-item:last-child::after {align-self: flex-start;width: 50%;}#sk-container-id-2 div.sk-parallel-item:only-child::after {width: 0;}#sk-container-id-2 div.sk-dashed-wrapped {border: 1px dashed gray;margin: 0 0.4em 0.5em 0.4em;box-sizing: border-box;padding-bottom: 0.4em;background-color: white;}#sk-container-id-2 div.sk-label label {font-family: monospace;font-weight: bold;display: inline-block;line-height: 1.2em;}#sk-container-id-2 div.sk-label-container {text-align: center;}#sk-container-id-2 div.sk-container {/* jupyter's `normalize.less` sets `[hidden] { display: none; }` but bootstrap.min.css set `[hidden] { display: none !important; }` so we also need the `!important` here to be able to override the default hidden behavior on the sphinx rendered scikit-learn.org. See: https://github.com/scikit-learn/scikit-learn/issues/21755 */display: inline-block !important;position: relative;}#sk-container-id-2 div.sk-text-repr-fallback {display: none;}</style><div id=\"sk-container-id-2\" class=\"sk-top-container\"><div class=\"sk-text-repr-fallback\"><pre>GridSearchCV(estimator=SVC(),\n",
       "             param_grid={&#x27;C&#x27;: [1, 10, 100, 1000],\n",
       "                         &#x27;gamma&#x27;: [0.0001, 0.001, 0.01, 0.1, 1],\n",
       "                         &#x27;kernel&#x27;: [&#x27;rbf&#x27;]},\n",
       "             verbose=4)</pre><b>In a Jupyter environment, please rerun this cell to show the HTML representation or trust the notebook. <br />On GitHub, the HTML representation is unable to render, please try loading this page with nbviewer.org.</b></div><div class=\"sk-container\" hidden><div class=\"sk-item sk-dashed-wrapped\"><div class=\"sk-label-container\"><div class=\"sk-label sk-toggleable\"><input class=\"sk-toggleable__control sk-hidden--visually\" id=\"sk-estimator-id-2\" type=\"checkbox\" ><label for=\"sk-estimator-id-2\" class=\"sk-toggleable__label sk-toggleable__label-arrow\">GridSearchCV</label><div class=\"sk-toggleable__content\"><pre>GridSearchCV(estimator=SVC(),\n",
       "             param_grid={&#x27;C&#x27;: [1, 10, 100, 1000],\n",
       "                         &#x27;gamma&#x27;: [0.0001, 0.001, 0.01, 0.1, 1],\n",
       "                         &#x27;kernel&#x27;: [&#x27;rbf&#x27;]},\n",
       "             verbose=4)</pre></div></div></div><div class=\"sk-parallel\"><div class=\"sk-parallel-item\"><div class=\"sk-item\"><div class=\"sk-label-container\"><div class=\"sk-label sk-toggleable\"><input class=\"sk-toggleable__control sk-hidden--visually\" id=\"sk-estimator-id-3\" type=\"checkbox\" ><label for=\"sk-estimator-id-3\" class=\"sk-toggleable__label sk-toggleable__label-arrow\">estimator: SVC</label><div class=\"sk-toggleable__content\"><pre>SVC()</pre></div></div></div><div class=\"sk-serial\"><div class=\"sk-item\"><div class=\"sk-estimator sk-toggleable\"><input class=\"sk-toggleable__control sk-hidden--visually\" id=\"sk-estimator-id-4\" type=\"checkbox\" ><label for=\"sk-estimator-id-4\" class=\"sk-toggleable__label sk-toggleable__label-arrow\">SVC</label><div class=\"sk-toggleable__content\"><pre>SVC()</pre></div></div></div></div></div></div></div></div></div></div>"
      ],
      "text/plain": [
       "GridSearchCV(estimator=SVC(),\n",
       "             param_grid={'C': [1, 10, 100, 1000],\n",
       "                         'gamma': [0.0001, 0.001, 0.01, 0.1, 1],\n",
       "                         'kernel': ['rbf']},\n",
       "             verbose=4)"
      ]
     },
     "execution_count": 26,
     "metadata": {},
     "output_type": "execute_result"
    }
   ],
   "source": [
    "grid_search = GridSearchCV(SVC(), param_grid, refit=True, verbose=4)\n",
    "grid_search.fit(X_train_shuffled, y_train_shuffled)"
   ]
  },
  {
   "cell_type": "markdown",
   "id": "3cdb801e",
   "metadata": {
    "id": "3cdb801e"
   },
   "source": [
    "After completing the exhaustive hyperparameter search using cross-validation, the `best_params_` attribute of `grid_search` contains a dictionary that specifies the best hyperparameters found during the search process.\n",
    "\n",
    "**grid_search.best_params_:** This attribute returns a dictionary containing the best values for the hyperparameters found during the exhaustive search. Each key in the dictionary corresponds to a hyperparameter, and its value is the best option found for that hyperparameter.\n",
    "\n",
    "For our specific case, the best hyperparameters found are:\n",
    "\n",
    "- **C: 100**\n",
    "- **gamma: 0.1**\n",
    "- **kernel: 'rbf'**\n",
    "\n",
    "This indicates that, according to the hyperparameter search results, the Support Vector Machine (SVM) model achieves the best performance when trained with a regularization parameter C equal to 100, a kernel width parameter gamma equal to 0.1, and using a radial basis function (RBF) kernel. These are the optimal values found that maximize the model's performance on the training dataset during the hyperparameter search.\n"
   ]
  },
  {
   "cell_type": "code",
   "execution_count": null,
   "id": "22197cdf4aefffe8",
   "metadata": {
    "id": "22197cdf4aefffe8",
    "outputId": "95c8c50f-3dc1-49d8-fb7f-c81d11763e37"
   },
   "outputs": [
    {
     "data": {
      "text/plain": [
       "{'C': 100, 'gamma': 0.1, 'kernel': 'rbf'}"
      ]
     },
     "execution_count": 27,
     "metadata": {},
     "output_type": "execute_result"
    }
   ],
   "source": [
    "grid_search.best_params_"
   ]
  },
  {
   "cell_type": "code",
   "execution_count": null,
   "id": "500c0d2e2d15c1ed",
   "metadata": {
    "id": "500c0d2e2d15c1ed",
    "outputId": "19d181d2-a563-4228-f2a2-9b6153e2dabc"
   },
   "outputs": [
    {
     "data": {
      "text/html": [
       "<style>#sk-container-id-3 {color: black;}#sk-container-id-3 pre{padding: 0;}#sk-container-id-3 div.sk-toggleable {background-color: white;}#sk-container-id-3 label.sk-toggleable__label {cursor: pointer;display: block;width: 100%;margin-bottom: 0;padding: 0.3em;box-sizing: border-box;text-align: center;}#sk-container-id-3 label.sk-toggleable__label-arrow:before {content: \"▸\";float: left;margin-right: 0.25em;color: #696969;}#sk-container-id-3 label.sk-toggleable__label-arrow:hover:before {color: black;}#sk-container-id-3 div.sk-estimator:hover label.sk-toggleable__label-arrow:before {color: black;}#sk-container-id-3 div.sk-toggleable__content {max-height: 0;max-width: 0;overflow: hidden;text-align: left;background-color: #f0f8ff;}#sk-container-id-3 div.sk-toggleable__content pre {margin: 0.2em;color: black;border-radius: 0.25em;background-color: #f0f8ff;}#sk-container-id-3 input.sk-toggleable__control:checked~div.sk-toggleable__content {max-height: 200px;max-width: 100%;overflow: auto;}#sk-container-id-3 input.sk-toggleable__control:checked~label.sk-toggleable__label-arrow:before {content: \"▾\";}#sk-container-id-3 div.sk-estimator input.sk-toggleable__control:checked~label.sk-toggleable__label {background-color: #d4ebff;}#sk-container-id-3 div.sk-label input.sk-toggleable__control:checked~label.sk-toggleable__label {background-color: #d4ebff;}#sk-container-id-3 input.sk-hidden--visually {border: 0;clip: rect(1px 1px 1px 1px);clip: rect(1px, 1px, 1px, 1px);height: 1px;margin: -1px;overflow: hidden;padding: 0;position: absolute;width: 1px;}#sk-container-id-3 div.sk-estimator {font-family: monospace;background-color: #f0f8ff;border: 1px dotted black;border-radius: 0.25em;box-sizing: border-box;margin-bottom: 0.5em;}#sk-container-id-3 div.sk-estimator:hover {background-color: #d4ebff;}#sk-container-id-3 div.sk-parallel-item::after {content: \"\";width: 100%;border-bottom: 1px solid gray;flex-grow: 1;}#sk-container-id-3 div.sk-label:hover label.sk-toggleable__label {background-color: #d4ebff;}#sk-container-id-3 div.sk-serial::before {content: \"\";position: absolute;border-left: 1px solid gray;box-sizing: border-box;top: 0;bottom: 0;left: 50%;z-index: 0;}#sk-container-id-3 div.sk-serial {display: flex;flex-direction: column;align-items: center;background-color: white;padding-right: 0.2em;padding-left: 0.2em;position: relative;}#sk-container-id-3 div.sk-item {position: relative;z-index: 1;}#sk-container-id-3 div.sk-parallel {display: flex;align-items: stretch;justify-content: center;background-color: white;position: relative;}#sk-container-id-3 div.sk-item::before, #sk-container-id-3 div.sk-parallel-item::before {content: \"\";position: absolute;border-left: 1px solid gray;box-sizing: border-box;top: 0;bottom: 0;left: 50%;z-index: -1;}#sk-container-id-3 div.sk-parallel-item {display: flex;flex-direction: column;z-index: 1;position: relative;background-color: white;}#sk-container-id-3 div.sk-parallel-item:first-child::after {align-self: flex-end;width: 50%;}#sk-container-id-3 div.sk-parallel-item:last-child::after {align-self: flex-start;width: 50%;}#sk-container-id-3 div.sk-parallel-item:only-child::after {width: 0;}#sk-container-id-3 div.sk-dashed-wrapped {border: 1px dashed gray;margin: 0 0.4em 0.5em 0.4em;box-sizing: border-box;padding-bottom: 0.4em;background-color: white;}#sk-container-id-3 div.sk-label label {font-family: monospace;font-weight: bold;display: inline-block;line-height: 1.2em;}#sk-container-id-3 div.sk-label-container {text-align: center;}#sk-container-id-3 div.sk-container {/* jupyter's `normalize.less` sets `[hidden] { display: none; }` but bootstrap.min.css set `[hidden] { display: none !important; }` so we also need the `!important` here to be able to override the default hidden behavior on the sphinx rendered scikit-learn.org. See: https://github.com/scikit-learn/scikit-learn/issues/21755 */display: inline-block !important;position: relative;}#sk-container-id-3 div.sk-text-repr-fallback {display: none;}</style><div id=\"sk-container-id-3\" class=\"sk-top-container\"><div class=\"sk-text-repr-fallback\"><pre>SVC(C=100, gamma=0.1)</pre><b>In a Jupyter environment, please rerun this cell to show the HTML representation or trust the notebook. <br />On GitHub, the HTML representation is unable to render, please try loading this page with nbviewer.org.</b></div><div class=\"sk-container\" hidden><div class=\"sk-item\"><div class=\"sk-estimator sk-toggleable\"><input class=\"sk-toggleable__control sk-hidden--visually\" id=\"sk-estimator-id-5\" type=\"checkbox\" checked><label for=\"sk-estimator-id-5\" class=\"sk-toggleable__label sk-toggleable__label-arrow\">SVC</label><div class=\"sk-toggleable__content\"><pre>SVC(C=100, gamma=0.1)</pre></div></div></div></div></div>"
      ],
      "text/plain": [
       "SVC(C=100, gamma=0.1)"
      ]
     },
     "execution_count": 28,
     "metadata": {},
     "output_type": "execute_result"
    }
   ],
   "source": [
    "grid_search.best_estimator_"
   ]
  },
  {
   "cell_type": "markdown",
   "id": "ef715624",
   "metadata": {
    "id": "ef715624"
   },
   "source": "Let's use the SVM model with the best hyperparameters found during the exhaustive hyperparameter search `(grid_search)` to make predictions on the randomized test dataset `(X_test_shuffled)`.\n"
  },
  {
   "cell_type": "code",
   "execution_count": null,
   "id": "da4f49184070389b",
   "metadata": {
    "id": "da4f49184070389b"
   },
   "outputs": [],
   "source": [
    "grid_predictions = grid_search.predict(X_test_shuffled)"
   ]
  },
  {
   "cell_type": "markdown",
   "id": "91151aea",
   "metadata": {
    "id": "91151aea"
   },
   "source": "Generated confusion matrix"
  },
  {
   "cell_type": "code",
   "execution_count": null,
   "id": "c65fa8cbfc967257",
   "metadata": {
    "id": "c65fa8cbfc967257",
    "outputId": "87430c4d-d591-483c-f602-ba1e32995f35"
   },
   "outputs": [
    {
     "data": {
      "image/png": "[encoded data removed]",
      "text/plain": [
       "<Figure size 640x480 with 1 Axes>"
      ]
     },
     "metadata": {},
     "output_type": "display_data"
    }
   ],
   "source": [
    "cm = confusion_matrix(y_test_shuffled, grid_predictions)\n",
    "sns.heatmap(cm, annot=True, fmt='g', cbar=False)\n",
    "plt.show()"
   ]
  },
  {
   "cell_type": "code",
   "execution_count": null,
   "id": "6ee7c69864fe6741",
   "metadata": {
    "id": "6ee7c69864fe6741",
    "outputId": "7cfa59b2-b1cc-44b8-b629-8a794b8add8b"
   },
   "outputs": [
    {
     "data": {
      "text/plain": [
       "array([[9580,  420],\n",
       "       [1708, 7892]], dtype=int64)"
      ]
     },
     "execution_count": 36,
     "metadata": {},
     "output_type": "execute_result"
    }
   ],
   "source": [
    "cm"
   ]
  },
  {
   "cell_type": "markdown",
   "id": "81d131ca",
   "metadata": {
    "id": "81d131ca"
   },
   "source": [
    "Comparing the two confusion matrices, we can observe the following changes:\n",
    "\n",
    "**Before the hyperparameter search:**\n",
    "\n",
    "- True Negatives (TN): `9559`\n",
    "- False Positives (FP): `441`\n",
    "- False Negatives (FN): `1464`\n",
    "- True Positives (TP): `8136`\n",
    "\n",
    "**After the hyperparameter search:**\n",
    "\n",
    "- True Negatives (TN): `9580`\n",
    "- False Positives (FP): `420`\n",
    "- False Negatives (FN): `1708`\n",
    "- True Positives (TP): `7892`\n",
    "\n",
    "**Observations:**\n",
    "\n",
    "- There is a slight improvement in true negatives (TN), increasing from 9559 to 9580.\n",
    "- There is a reduction in false positives (FP), decreasing from 441 to 420.\n",
    "- There is an increase in false negatives (FN), rising from 1464 to 1708.\n",
    "- There is a decrease in true positives (TP), dropping from 8136 to 7892.\n",
    "\n",
    "Therefore, after applying the hyperparameter search, the model tends to correctly classify more samples as non-pedestrians (increase in true negatives) and fewer samples as false positives (decrease in false positives). However, there is also an increase in false negatives, indicating that the model incorrectly classifies more samples as non-pedestrians when they are actually pedestrians. This suggests that the hyperparameter tuning has impacted the model's ability to generalize, but additional adjustments may still be needed to improve performance in terms of pedestrian classification.\n"
   ]
  },
  {
   "cell_type": "code",
   "execution_count": null,
   "id": "e080d13cd7c0100b",
   "metadata": {
    "id": "e080d13cd7c0100b",
    "outputId": "f1bc6c3c-4c18-4eee-beb0-a25c17790b8b"
   },
   "outputs": [
    {
     "name": "stdout",
     "output_type": "stream",
     "text": [
      "              precision    recall  f1-score   support\n",
      "\n",
      "         0.0       0.85      0.96      0.90     10000\n",
      "         1.0       0.95      0.82      0.88      9600\n",
      "\n",
      "    accuracy                           0.89     19600\n",
      "   macro avg       0.90      0.89      0.89     19600\n",
      "weighted avg       0.90      0.89      0.89     19600\n",
      "\n"
     ]
    }
   ],
   "source": [
    "print(classification_report(y_test_shuffled, grid_predictions))"
   ]
  },
  {
   "cell_type": "markdown",
   "id": "01cc4121",
   "metadata": {
    "id": "01cc4121"
   },
   "source": [
    "**Before the hyperparameter search:**\n",
    "\n",
    "- Precision for class 0 (non-pedestrians): `0.87`\n",
    "- Recall for class 0: `0.96`\n",
    "- F1-score for class 0: `0.91`\n",
    "- Precision for class 1 (pedestrians): `0.95`\n",
    "- Recall for class 1: `0.85`\n",
    "- F1-score for class 1: `0.90`\n",
    "- Accuracy: `0.90`\n",
    "\n",
    "**After the hyperparameter search:**\n",
    "\n",
    "- Precision for class 0 (non-pedestrians): `0.85`\n",
    "- Recall for class 0: `0.96`\n",
    "- F1-score for class 0: `0.90`\n",
    "- Precision for class 1 (pedestrians): `0.95`\n",
    "- Recall for class 1: `0.82`\n",
    "- F1-score for class 1: `0.88`\n",
    "- Accuracy: `0.89`\n",
    "\n",
    "**Observations:**\n",
    "\n",
    "- After the hyperparameter search, we observe a decrease in recall for class 1 (pedestrians), from 0.85 to 0.82.\n",
    "- There is also a slight decrease in precision for class 0 (non-pedestrians), from 0.87 to 0.85.\n",
    "- The F1-score for class 0 remains relatively stable, decreasing only slightly from 0.91 to 0.90.\n",
    "- The F1-score for class 1 shows a more notable decrease, from 0.90 to 0.88.\n",
    "- The overall accuracy of the model slightly decreases from 0.90 to 0.89 after the hyperparameter search.\n",
    "\n",
    "Therefore, we will choose the initially trained model, which has a better balance in terms of prediction quality."
   ]
  },
  {
   "cell_type": "code",
   "execution_count": null,
   "id": "b6285095be5d9575",
   "metadata": {
    "id": "b6285095be5d9575",
    "outputId": "cd60a41e-544f-433a-ebcd-183eb03b080f"
   },
   "outputs": [
    {
     "data": {
      "text/plain": [
       "['predicciones.pkl']"
      ]
     },
     "execution_count": 35,
     "metadata": {},
     "output_type": "execute_result"
    }
   ],
   "source": [
    "import joblib\n",
    "\n",
    "# Guardar el modelo resultante\n",
    "joblib.dump(grid_search, 'modelo_entrenado.pkl')\n",
    "\n",
    "# Realizar predicciones con el modelo y guardarlas\n",
    "grid_predictions = grid_search.predict(X_test_shuffled)\n",
    "joblib.dump(grid_predictions, 'predicciones.pkl')"
   ]
  },
  {
   "cell_type": "markdown",
   "id": "b92b9621",
   "metadata": {
    "id": "b92b9621"
   },
   "source": "With this last line, we save our model so that it can be used later to generate predictions."
  },
  {
   "cell_type": "code",
   "execution_count": null,
   "id": "910f00ee",
   "metadata": {
    "id": "910f00ee"
   },
   "outputs": [],
   "source": [
    "# Cargar el modelo\n",
    "modelo_cargado = joblib.load('modelo_entrenado.pkl')\n",
    "\n",
    "# Cargar las predicciones\n",
    "predicciones_cargadas = joblib.load('predicciones.pkl')"
   ]
  }
 ],
 "metadata": {
  "colab": {
   "provenance": []
  },
  "kernelspec": {
   "display_name": "Python 3 (ipykernel)",
   "language": "python",
   "name": "python3"
  },
  "language_info": {
   "codemirror_mode": {
    "name": "ipython",
    "version": 3
   },
   "file_extension": ".py",
   "mimetype": "text/x-python",
   "name": "python",
   "nbconvert_exporter": "python",
   "pygments_lexer": "ipython3",
   "version": "3.9.18"
  }
 },
 "nbformat": 4,
 "nbformat_minor": 5
}
