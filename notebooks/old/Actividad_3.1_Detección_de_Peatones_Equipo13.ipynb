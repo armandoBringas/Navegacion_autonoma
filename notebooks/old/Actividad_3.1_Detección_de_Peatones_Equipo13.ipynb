{
 "cells": [
  {
   "metadata": {},
   "cell_type": "markdown",
   "source": "# Actividad 3.1 - Detección de Peatones con SVM",
   "id": "4ac6ebfca1c95adf"
  },
  {
   "metadata": {},
   "cell_type": "markdown",
   "source": "## Importado de librerías",
   "id": "37986e402e1ff167"
  },
  {
   "metadata": {
    "ExecuteTime": {
     "end_time": "2024-05-14T04:43:11.078668Z",
     "start_time": "2024-05-14T04:43:09.756147Z"
    }
   },
   "cell_type": "code",
   "source": [
    "import glob\n",
    "import os\n",
    "import tarfile\n",
    "\n",
    "import cv2\n",
    "import matplotlib.image as mpimg\n",
    "import matplotlib.pyplot as plt\n",
    "import numpy as np\n",
    "import requests\n",
    "import seaborn as sns\n",
    "from skimage.feature import hog\n",
    "from sklearn.metrics import classification_report, confusion_matrix\n",
    "from sklearn.model_selection import train_test_split, GridSearchCV\n",
    "from sklearn.svm import SVC\n",
    "from sklearnex import patch_sklearn\n",
    "\n",
    "# Aplicar patches a sklearn para mejorar performance.\n",
    "patch_sklearn()\n"
   ],
   "id": "initial_id",
   "outputs": [
    {
     "name": "stderr",
     "output_type": "stream",
     "text": [
      "Intel(R) Extension for Scikit-learn* enabled (https://github.com/intel/scikit-learn-intelex)\n"
     ]
    }
   ],
   "execution_count": 1
  },
  {
   "metadata": {
    "ExecuteTime": {
     "end_time": "2024-05-14T04:43:11.094660Z",
     "start_time": "2024-05-14T04:43:11.080661Z"
    }
   },
   "cell_type": "code",
   "source": "random_state = np.random.RandomState(seed=42)",
   "id": "96f359e3702467e2",
   "outputs": [],
   "execution_count": 2
  },
  {
   "metadata": {},
   "cell_type": "markdown",
   "source": "## Cargado de Dataset",
   "id": "c2869b0347313e89"
  },
  {
   "metadata": {},
   "cell_type": "markdown",
   "source": [
    "El dataset fue obtenido de: http://www.gavrila.net/Datasets/Daimler_Pedestrian_Benchmark_D/Daimler_Mono_Ped__Class__Bench/daimler_mono_ped__class__bench.html\n",
    "\n",
    "Ya que el dataset viene en formato .tar.gz, la siguiente función hace la descarga directo desde la URL y extrae las imágenes en la carpeta indicada"
   ],
   "id": "6edbf878b6ed738f"
  },
  {
   "metadata": {
    "ExecuteTime": {
     "end_time": "2024-05-14T04:43:11.110662Z",
     "start_time": "2024-05-14T04:43:11.096659Z"
    }
   },
   "cell_type": "code",
   "source": [
    "def download_and_extract_dataset(url: str, target_dir: str):\n",
    "    \"\"\"\n",
    "    Descarga y extrae un conjunto de datos en formato tar.gz desde una URL en el directorio especificado.\n",
    "\n",
    "    Args:\n",
    "        url (str): La URL de donde se descargará el conjunto de datos.\n",
    "        target_dir (str): El directorio donde se guardará el conjunto de datos.\n",
    "    \"\"\"\n",
    "    # Revisar que el directorio objetivo existe\n",
    "    os.makedirs(target_dir, exist_ok=True)\n",
    "\n",
    "    # Establece la ruta donde se guardará el conjunto de datos\n",
    "    filename = url.split(\"/\")[-1]\n",
    "    file_path = os.path.join(target_dir, filename)\n",
    "\n",
    "    # Verifica si el archivo ya existe\n",
    "    if not os.path.exists(file_path):\n",
    "        print(\"Descargando el conjunto de datos...\")\n",
    "        # Envía una solicitud GET a la URL\n",
    "        response = requests.get(url, stream=True)\n",
    "        if response.status_code == 200:\n",
    "            # Guarda el archivo en fragmentos para evitar usar demasiada memoria\n",
    "            with open(file_path, 'wb') as f:\n",
    "                for chunk in response.iter_content(chunk_size=8192):\n",
    "                    f.write(chunk)\n",
    "            print(\"Descarga completa. Extrayendo archivos...\")\n",
    "            # Extrae el archivo tar.gz\n",
    "            with tarfile.open(file_path, \"r:gz\") as tar:\n",
    "                tar.extractall(path=target_dir)\n",
    "            print(\"Extracción completa.\")\n",
    "        else:\n",
    "            print(\"Fallo al descargar el archivo. Código de estado:\", response.status_code)\n",
    "    else:\n",
    "        print(\"El conjunto de datos ya existe.\")"
   ],
   "id": "fe889c0cda6961ab",
   "outputs": [],
   "execution_count": 3
  },
  {
   "metadata": {
    "ExecuteTime": {
     "end_time": "2024-05-14T04:43:11.126660Z",
     "start_time": "2024-05-14T04:43:11.115663Z"
    }
   },
   "cell_type": "code",
   "source": [
    "dataset_url = \"http://www.lookingatpeople.com/data/Daimler/pami06-munder-gavrila/DC-ped-dataset_base.tar.gz\"\n",
    "dataset_target_dir = \"data/pedestrians\"\n",
    "\n",
    "download_and_extract_dataset(dataset_url, dataset_target_dir)"
   ],
   "id": "afe7dc0f5beec69c",
   "outputs": [
    {
     "name": "stdout",
     "output_type": "stream",
     "text": [
      "El conjunto de datos ya existe.\n"
     ]
    }
   ],
   "execution_count": 4
  },
  {
   "metadata": {},
   "cell_type": "markdown",
   "source": "## Datos de Entrenamiento y Prueba",
   "id": "c2c46e8f2f73f7c8"
  },
  {
   "metadata": {},
   "cell_type": "markdown",
   "source": [
    "De acuerdo a la descripción del dataset que viene en la siguiente página: http://www.lookingatpeople.com/data/Daimler/pami06-munder-gavrila/README_benchmark.txt, el dataset tiene la siguiente estructura:\n",
    "\n",
    "$$\n",
    "\\begin{table}\n",
    "\\begin{tabular}{|c|c|c|c|c|c|}\n",
    "\\hline\n",
    "\\textbf{Dataset Name} & \\textbf{Purpose} & \\textbf{Pedestrian Labels} & \\textbf{Pedestrian Examples} & \\textbf{Non-ped. Examples} & \\textbf{Storage Size} \\\\ \\hline\n",
    "1                     & Training         & 800                         & 4800                         & 5000                        & 39 MB                 \\\\ \\hline\n",
    "2                     & Training         & 800                         & 4800                         & 5000                        & 39 MB                 \\\\ \\hline\n",
    "3                     & Training         & 800                         & 4800                         & 5000                        & 39 MB                 \\\\ \\hline\n",
    "T1                    & Test             & 800                         & 4800                         & 5000                        & 39 MB                 \\\\ \\hline\n",
    "T2                    & Test             & 800                         & 4800                         & 5000                        & 39 MB                 \\\\ \\hline\n",
    "\\end{tabular}\n",
    "\\end{table}\n",
    "$$"
   ],
   "id": "e4a1f9204bea8460"
  },
  {
   "metadata": {
    "ExecuteTime": {
     "end_time": "2024-05-14T04:43:11.142661Z",
     "start_time": "2024-05-14T04:43:11.128658Z"
    }
   },
   "cell_type": "code",
   "source": [
    "def get_data_files(sub_dir: str, sub_dirs: str, file_extension: str='pgm') -> list:\n",
    "    data = []\n",
    "    for sub_dir in sub_dirs:\n",
    "        data_files = glob.glob(f\"{dataset_target_dir}/{sub_dir}/*.{file_extension}\")\n",
    "        data.extend(data_files)\n",
    "    return data\n",
    "    "
   ],
   "id": "40609272a7e540df",
   "outputs": [],
   "execution_count": 5
  },
  {
   "metadata": {},
   "cell_type": "markdown",
   "source": "Datos de entrenamiento",
   "id": "3f63778b6c90809b"
  },
  {
   "metadata": {
    "ExecuteTime": {
     "end_time": "2024-05-14T04:43:11.286657Z",
     "start_time": "2024-05-14T04:43:11.144662Z"
    }
   },
   "cell_type": "code",
   "source": [
    "train_pedestrians_sub_dirs = [\"1/ped_examples\", \"2/ped_examples\", \"3/ped_examples\"]\n",
    "train_pedestrians = get_data_files(dataset_target_dir, train_pedestrians_sub_dirs)\n",
    "len(train_pedestrians)"
   ],
   "id": "4b9ef6981f7f8746",
   "outputs": [
    {
     "data": {
      "text/plain": [
       "14400"
      ]
     },
     "execution_count": 6,
     "metadata": {},
     "output_type": "execute_result"
    }
   ],
   "execution_count": 6
  },
  {
   "metadata": {
    "ExecuteTime": {
     "end_time": "2024-05-14T04:43:11.424669Z",
     "start_time": "2024-05-14T04:43:11.288657Z"
    }
   },
   "cell_type": "code",
   "source": [
    "train_non_pedestrians_sub_dirs = [\"1/non-ped_examples\", \"2/non-ped_examples\", \"3/non-ped_examples\"]\n",
    "train_non_pedestrians = get_data_files(dataset_target_dir, train_non_pedestrians_sub_dirs)\n",
    "len(train_non_pedestrians)"
   ],
   "id": "9786c27512d65f4f",
   "outputs": [
    {
     "data": {
      "text/plain": [
       "15000"
      ]
     },
     "execution_count": 7,
     "metadata": {},
     "output_type": "execute_result"
    }
   ],
   "execution_count": 7
  },
  {
   "metadata": {},
   "cell_type": "markdown",
   "source": "Datos de prueba",
   "id": "df30ee783949cb71"
  },
  {
   "metadata": {
    "ExecuteTime": {
     "end_time": "2024-05-14T04:43:11.518657Z",
     "start_time": "2024-05-14T04:43:11.426664Z"
    }
   },
   "cell_type": "code",
   "source": [
    "test_pedestrians_sub_dirs = [\"T1/ped_examples\", \"T2/ped_examples\"]\n",
    "test_pedestrians = get_data_files(dataset_target_dir, test_pedestrians_sub_dirs)\n",
    "len(test_pedestrians)"
   ],
   "id": "e98f49258b1190ed",
   "outputs": [
    {
     "data": {
      "text/plain": [
       "9600"
      ]
     },
     "execution_count": 8,
     "metadata": {},
     "output_type": "execute_result"
    }
   ],
   "execution_count": 8
  },
  {
   "metadata": {
    "ExecuteTime": {
     "end_time": "2024-05-14T04:43:11.610658Z",
     "start_time": "2024-05-14T04:43:11.520659Z"
    }
   },
   "cell_type": "code",
   "source": [
    "test_non_pedestrians_sub_dirs = [\"T1/non-ped_examples\", \"T2/non-ped_examples\"]\n",
    "test_non_pedestrians = get_data_files(dataset_target_dir, test_non_pedestrians_sub_dirs)\n",
    "len(test_non_pedestrians)"
   ],
   "id": "9e5742dc2f4329f5",
   "outputs": [
    {
     "data": {
      "text/plain": [
       "10000"
      ]
     },
     "execution_count": 9,
     "metadata": {},
     "output_type": "execute_result"
    }
   ],
   "execution_count": 9
  },
  {
   "metadata": {},
   "cell_type": "markdown",
   "source": "## Cálculo de HOG en una sola imagen",
   "id": "6e7b58f98001502d"
  },
  {
   "metadata": {},
   "cell_type": "markdown",
   "source": "Visualización de la imagen de un solo peatón",
   "id": "c306e49cc57e3e7"
  },
  {
   "metadata": {
    "ExecuteTime": {
     "end_time": "2024-05-14T04:43:11.845286Z",
     "start_time": "2024-05-14T04:43:11.612659Z"
    }
   },
   "cell_type": "code",
   "source": [
    "img_pedestrian = cv2.imread(train_pedestrians[150], cv2.COLOR_BGR2GRAY)\n",
    "plt.imshow(img_pedestrian, cmap='gray')\n",
    "plt.show()"
   ],
   "id": "7811958d9465dd51",
   "outputs": [
    {
     "data": {
      "text/plain": [
       "<Figure size 640x480 with 1 Axes>"
      ],
      "image/png": "[encoded data removed]"
     },
     "metadata": {},
     "output_type": "display_data"
    }
   ],
   "execution_count": 10
  },
  {
   "metadata": {
    "ExecuteTime": {
     "end_time": "2024-05-14T04:43:11.861285Z",
     "start_time": "2024-05-14T04:43:11.847285Z"
    }
   },
   "cell_type": "code",
   "source": "print(img_pedestrian.shape)",
   "id": "753c0a3c79bca639",
   "outputs": [
    {
     "name": "stdout",
     "output_type": "stream",
     "text": [
      "(36, 18)\n"
     ]
    }
   ],
   "execution_count": 11
  },
  {
   "metadata": {
    "ExecuteTime": {
     "end_time": "2024-05-14T04:43:11.876285Z",
     "start_time": "2024-05-14T04:43:11.863286Z"
    }
   },
   "cell_type": "code",
   "source": [
    "features, hog_image = hog(img_pedestrian, \n",
    "                          orientations=10, \n",
    "                          pixels_per_cell=(6, 6),\n",
    "                          cells_per_block=(2, 2), \n",
    "                          transform_sqrt= False,\n",
    "                          visualize=True,\n",
    "                          feature_vector=True)"
   ],
   "id": "4c2f082c1fca8983",
   "outputs": [],
   "execution_count": 12
  },
  {
   "metadata": {
    "ExecuteTime": {
     "end_time": "2024-05-14T04:43:11.891284Z",
     "start_time": "2024-05-14T04:43:11.878288Z"
    }
   },
   "cell_type": "code",
   "source": "print(features.shape)",
   "id": "d9359d2b116e790f",
   "outputs": [
    {
     "name": "stdout",
     "output_type": "stream",
     "text": [
      "(400,)\n"
     ]
    }
   ],
   "execution_count": 13
  },
  {
   "metadata": {
    "ExecuteTime": {
     "end_time": "2024-05-14T04:43:12.121283Z",
     "start_time": "2024-05-14T04:43:11.894284Z"
    }
   },
   "cell_type": "code",
   "source": [
    "plt.imshow(hog_image, cmap='gray')\n",
    "plt.show()"
   ],
   "id": "219b4f333db4d5b5",
   "outputs": [
    {
     "data": {
      "text/plain": [
       "<Figure size 640x480 with 1 Axes>"
      ],
      "image/png": "[encoded data removed]"
     },
     "metadata": {},
     "output_type": "display_data"
    }
   ],
   "execution_count": 14
  },
  {
   "metadata": {},
   "cell_type": "markdown",
   "source": "## Extracción las features HOG para los datos",
   "id": "4dfcd8b2fa17cb09"
  },
  {
   "metadata": {
    "ExecuteTime": {
     "end_time": "2024-05-14T04:43:12.136291Z",
     "start_time": "2024-05-14T04:43:12.123290Z"
    }
   },
   "cell_type": "code",
   "source": [
    "def extract_hog_features(img_data_list: list) -> list:\n",
    "    hog_data = list()\n",
    "    for img_data in img_data_list:\n",
    "        img = cv2.imread(img_data, cv2.COLOR_BGR2GRAY)\n",
    "        img_hog_feature, img_hog_image = hog(img,\n",
    "                                             orientations=10, \n",
    "                                             pixels_per_cell=(6, 6),\n",
    "                                             cells_per_block=(2, 2), \n",
    "                                             transform_sqrt= False,\n",
    "                                             visualize=True,\n",
    "                                             feature_vector=True)\n",
    "        hog_data.append(img_hog_feature)\n",
    "    \n",
    "    return hog_data"
   ],
   "id": "1237d3f159ef0e60",
   "outputs": [],
   "execution_count": 15
  },
  {
   "metadata": {
    "ExecuteTime": {
     "end_time": "2024-05-14T04:44:55.221368Z",
     "start_time": "2024-05-14T04:43:12.141284Z"
    }
   },
   "cell_type": "code",
   "source": [
    "X_train_pedestrians = np.vstack(extract_hog_features(train_pedestrians)).astype(np.float32)\n",
    "y_train_pedestrians = np.ones(len(X_train_pedestrians))\n",
    "\n",
    "X_train_non_pedestrians = np.vstack(extract_hog_features(train_non_pedestrians)).astype(np.float32)\n",
    "y_train_non_pedestrians = np.zeros(len(X_train_non_pedestrians))\n",
    "\n",
    "X_train = np.vstack((X_train_pedestrians, X_train_non_pedestrians))\n",
    "y_train = np.hstack((y_train_pedestrians, y_train_non_pedestrians))\n",
    "\n",
    "# Poner datos de forma aleatoria\n",
    "indices = random_state.permutation(len(X_train))\n",
    "X_train_shuffled = X_train[indices]\n",
    "y_train_shuffled = y_train[indices]"
   ],
   "id": "21cb721798e626d2",
   "outputs": [],
   "execution_count": 16
  },
  {
   "metadata": {
    "ExecuteTime": {
     "end_time": "2024-05-14T04:44:55.236376Z",
     "start_time": "2024-05-14T04:44:55.223368Z"
    }
   },
   "cell_type": "code",
   "source": [
    "del X_train\n",
    "del y_train\n",
    "del train_pedestrians\n",
    "del train_non_pedestrians"
   ],
   "id": "1cedb36b0c813ce1",
   "outputs": [],
   "execution_count": 17
  },
  {
   "metadata": {
    "ExecuteTime": {
     "end_time": "2024-05-14T04:45:55.754786Z",
     "start_time": "2024-05-14T04:44:55.237371Z"
    }
   },
   "cell_type": "code",
   "source": [
    "X_test_pedestrians = np.vstack(extract_hog_features(test_pedestrians)).astype(np.float32)\n",
    "y_test_pedestrians = np.ones(len(X_test_pedestrians))\n",
    "\n",
    "X_test_non_pedestrians = np.vstack(extract_hog_features(test_non_pedestrians)).astype(np.float32)\n",
    "y_test_non_pedestrians = np.zeros(len(X_test_non_pedestrians))\n",
    "\n",
    "X_test = np.vstack((X_test_pedestrians, X_test_non_pedestrians))\n",
    "y_test = np.hstack((y_test_pedestrians, y_test_non_pedestrians))\n",
    "\n",
    "# Poner datos de forma aleatoria\n",
    "indices = random_state.permutation(len(X_test))\n",
    "X_test_shuffled = X_test[indices]\n",
    "y_test_shuffled = y_test[indices]"
   ],
   "id": "855dd0011f0daea5",
   "outputs": [],
   "execution_count": 18
  },
  {
   "metadata": {
    "ExecuteTime": {
     "end_time": "2024-05-14T04:45:55.770787Z",
     "start_time": "2024-05-14T04:45:55.756788Z"
    }
   },
   "cell_type": "code",
   "source": [
    "del X_test\n",
    "del y_test\n",
    "del test_pedestrians\n",
    "del test_non_pedestrians"
   ],
   "id": "b27a8c1e8e06aad5",
   "outputs": [],
   "execution_count": 19
  },
  {
   "metadata": {},
   "cell_type": "markdown",
   "source": "## Modelo SVM y entrenamiento",
   "id": "722bf9aa3954fd4b"
  },
  {
   "metadata": {
    "ExecuteTime": {
     "end_time": "2024-05-14T04:48:35.229344Z",
     "start_time": "2024-05-14T04:45:55.773788Z"
    }
   },
   "cell_type": "code",
   "source": [
    "svc_model = SVC()\n",
    "svc_model.fit(X_train_shuffled, y_train_shuffled)"
   ],
   "id": "caacafb2fb22019e",
   "outputs": [
    {
     "data": {
      "text/plain": [
       "SVC()"
      ],
      "text/html": [
       "<style>#sk-container-id-1 {color: black;}#sk-container-id-1 pre{padding: 0;}#sk-container-id-1 div.sk-toggleable {background-color: white;}#sk-container-id-1 label.sk-toggleable__label {cursor: pointer;display: block;width: 100%;margin-bottom: 0;padding: 0.3em;box-sizing: border-box;text-align: center;}#sk-container-id-1 label.sk-toggleable__label-arrow:before {content: \"▸\";float: left;margin-right: 0.25em;color: #696969;}#sk-container-id-1 label.sk-toggleable__label-arrow:hover:before {color: black;}#sk-container-id-1 div.sk-estimator:hover label.sk-toggleable__label-arrow:before {color: black;}#sk-container-id-1 div.sk-toggleable__content {max-height: 0;max-width: 0;overflow: hidden;text-align: left;background-color: #f0f8ff;}#sk-container-id-1 div.sk-toggleable__content pre {margin: 0.2em;color: black;border-radius: 0.25em;background-color: #f0f8ff;}#sk-container-id-1 input.sk-toggleable__control:checked~div.sk-toggleable__content {max-height: 200px;max-width: 100%;overflow: auto;}#sk-container-id-1 input.sk-toggleable__control:checked~label.sk-toggleable__label-arrow:before {content: \"▾\";}#sk-container-id-1 div.sk-estimator input.sk-toggleable__control:checked~label.sk-toggleable__label {background-color: #d4ebff;}#sk-container-id-1 div.sk-label input.sk-toggleable__control:checked~label.sk-toggleable__label {background-color: #d4ebff;}#sk-container-id-1 input.sk-hidden--visually {border: 0;clip: rect(1px 1px 1px 1px);clip: rect(1px, 1px, 1px, 1px);height: 1px;margin: -1px;overflow: hidden;padding: 0;position: absolute;width: 1px;}#sk-container-id-1 div.sk-estimator {font-family: monospace;background-color: #f0f8ff;border: 1px dotted black;border-radius: 0.25em;box-sizing: border-box;margin-bottom: 0.5em;}#sk-container-id-1 div.sk-estimator:hover {background-color: #d4ebff;}#sk-container-id-1 div.sk-parallel-item::after {content: \"\";width: 100%;border-bottom: 1px solid gray;flex-grow: 1;}#sk-container-id-1 div.sk-label:hover label.sk-toggleable__label {background-color: #d4ebff;}#sk-container-id-1 div.sk-serial::before {content: \"\";position: absolute;border-left: 1px solid gray;box-sizing: border-box;top: 0;bottom: 0;left: 50%;z-index: 0;}#sk-container-id-1 div.sk-serial {display: flex;flex-direction: column;align-items: center;background-color: white;padding-right: 0.2em;padding-left: 0.2em;position: relative;}#sk-container-id-1 div.sk-item {position: relative;z-index: 1;}#sk-container-id-1 div.sk-parallel {display: flex;align-items: stretch;justify-content: center;background-color: white;position: relative;}#sk-container-id-1 div.sk-item::before, #sk-container-id-1 div.sk-parallel-item::before {content: \"\";position: absolute;border-left: 1px solid gray;box-sizing: border-box;top: 0;bottom: 0;left: 50%;z-index: -1;}#sk-container-id-1 div.sk-parallel-item {display: flex;flex-direction: column;z-index: 1;position: relative;background-color: white;}#sk-container-id-1 div.sk-parallel-item:first-child::after {align-self: flex-end;width: 50%;}#sk-container-id-1 div.sk-parallel-item:last-child::after {align-self: flex-start;width: 50%;}#sk-container-id-1 div.sk-parallel-item:only-child::after {width: 0;}#sk-container-id-1 div.sk-dashed-wrapped {border: 1px dashed gray;margin: 0 0.4em 0.5em 0.4em;box-sizing: border-box;padding-bottom: 0.4em;background-color: white;}#sk-container-id-1 div.sk-label label {font-family: monospace;font-weight: bold;display: inline-block;line-height: 1.2em;}#sk-container-id-1 div.sk-label-container {text-align: center;}#sk-container-id-1 div.sk-container {/* jupyter's `normalize.less` sets `[hidden] { display: none; }` but bootstrap.min.css set `[hidden] { display: none !important; }` so we also need the `!important` here to be able to override the default hidden behavior on the sphinx rendered scikit-learn.org. See: https://github.com/scikit-learn/scikit-learn/issues/21755 */display: inline-block !important;position: relative;}#sk-container-id-1 div.sk-text-repr-fallback {display: none;}</style><div id=\"sk-container-id-1\" class=\"sk-top-container\"><div class=\"sk-text-repr-fallback\"><pre>SVC()</pre><b>In a Jupyter environment, please rerun this cell to show the HTML representation or trust the notebook. <br />On GitHub, the HTML representation is unable to render, please try loading this page with nbviewer.org.</b></div><div class=\"sk-container\" hidden><div class=\"sk-item\"><div class=\"sk-estimator sk-toggleable\"><input class=\"sk-toggleable__control sk-hidden--visually\" id=\"sk-estimator-id-1\" type=\"checkbox\" checked><label for=\"sk-estimator-id-1\" class=\"sk-toggleable__label sk-toggleable__label-arrow\">SVC</label><div class=\"sk-toggleable__content\"><pre>SVC()</pre></div></div></div></div></div>"
      ]
     },
     "execution_count": 20,
     "metadata": {},
     "output_type": "execute_result"
    }
   ],
   "execution_count": 20
  },
  {
   "metadata": {
    "ExecuteTime": {
     "end_time": "2024-05-14T04:49:35.847374Z",
     "start_time": "2024-05-14T04:48:35.231342Z"
    }
   },
   "cell_type": "code",
   "source": "y_pred = svc_model.predict(X_test_shuffled)",
   "id": "18336c6998f92e19",
   "outputs": [],
   "execution_count": 21
  },
  {
   "metadata": {
    "ExecuteTime": {
     "end_time": "2024-05-14T04:49:35.972370Z",
     "start_time": "2024-05-14T04:49:35.849371Z"
    }
   },
   "cell_type": "code",
   "source": [
    "cm = confusion_matrix(y_test_shuffled, y_pred, labels=[0, 1])\n",
    "sns.heatmap(cm,  annot=True, fmt='g', cmap='Purples', cbar=False) \n",
    "plt.show()"
   ],
   "id": "b7e7f612d07e7d14",
   "outputs": [
    {
     "data": {
      "text/plain": [
       "<Figure size 640x480 with 1 Axes>"
      ],
      "image/png": "[encoded data removed]"
     },
     "metadata": {},
     "output_type": "display_data"
    }
   ],
   "execution_count": 22
  },
  {
   "metadata": {
    "ExecuteTime": {
     "end_time": "2024-05-14T04:49:35.987368Z",
     "start_time": "2024-05-14T04:49:35.974371Z"
    }
   },
   "cell_type": "code",
   "source": "print(cm)",
   "id": "b343763430b3644e",
   "outputs": [
    {
     "name": "stdout",
     "output_type": "stream",
     "text": [
      "[[9559  441]\n",
      " [1464 8136]]\n"
     ]
    }
   ],
   "execution_count": 23
  },
  {
   "metadata": {
    "ExecuteTime": {
     "end_time": "2024-05-14T04:49:36.034370Z",
     "start_time": "2024-05-14T04:49:35.990373Z"
    }
   },
   "cell_type": "code",
   "source": "print(classification_report(y_test_shuffled, y_pred))",
   "id": "170f3d7f8c833a3d",
   "outputs": [
    {
     "name": "stdout",
     "output_type": "stream",
     "text": [
      "              precision    recall  f1-score   support\n",
      "\n",
      "         0.0       0.87      0.96      0.91     10000\n",
      "         1.0       0.95      0.85      0.90      9600\n",
      "\n",
      "    accuracy                           0.90     19600\n",
      "   macro avg       0.91      0.90      0.90     19600\n",
      "weighted avg       0.91      0.90      0.90     19600\n",
      "\n"
     ]
    }
   ],
   "execution_count": 24
  },
  {
   "metadata": {},
   "cell_type": "markdown",
   "source": "## Grid Search",
   "id": "468497095eebb94"
  },
  {
   "metadata": {
    "ExecuteTime": {
     "end_time": "2024-05-14T04:49:36.050375Z",
     "start_time": "2024-05-14T04:49:36.036371Z"
    }
   },
   "cell_type": "code",
   "source": "param_grid = {'C': [1, 10, 100, 1000], 'gamma': [0.0001, 0.001, 0.01, 0.1, 1], 'kernel': ['rbf']}",
   "id": "4d24c3286727cd56",
   "outputs": [],
   "execution_count": 25
  },
  {
   "metadata": {
    "ExecuteTime": {
     "end_time": "2024-05-14T10:28:29.486269Z",
     "start_time": "2024-05-14T04:49:36.052372Z"
    }
   },
   "cell_type": "code",
   "source": [
    "grid_search = GridSearchCV(SVC(), param_grid, refit=True, verbose=4)\n",
    "grid_search.fit(X_train_shuffled, y_train_shuffled)"
   ],
   "id": "11364773617ea3a8",
   "outputs": [
    {
     "name": "stdout",
     "output_type": "stream",
     "text": [
      "Fitting 5 folds for each of 20 candidates, totalling 100 fits\n",
      "[CV 1/5] END .....C=1, gamma=0.0001, kernel=rbf;, score=0.554 total time= 3.7min\n",
      "[CV 2/5] END .....C=1, gamma=0.0001, kernel=rbf;, score=0.550 total time= 3.7min\n",
      "[CV 3/5] END .....C=1, gamma=0.0001, kernel=rbf;, score=0.554 total time= 3.7min\n",
      "[CV 4/5] END .....C=1, gamma=0.0001, kernel=rbf;, score=0.550 total time= 3.6min\n",
      "[CV 5/5] END .....C=1, gamma=0.0001, kernel=rbf;, score=0.548 total time= 3.6min\n",
      "[CV 1/5] END ......C=1, gamma=0.001, kernel=rbf;, score=0.864 total time= 2.7min\n",
      "[CV 2/5] END ......C=1, gamma=0.001, kernel=rbf;, score=0.855 total time= 2.7min\n",
      "[CV 3/5] END ......C=1, gamma=0.001, kernel=rbf;, score=0.848 total time= 2.7min\n",
      "[CV 4/5] END ......C=1, gamma=0.001, kernel=rbf;, score=0.856 total time= 2.7min\n",
      "[CV 5/5] END ......C=1, gamma=0.001, kernel=rbf;, score=0.853 total time= 2.7min\n",
      "[CV 1/5] END .......C=1, gamma=0.01, kernel=rbf;, score=0.896 total time= 1.7min\n",
      "[CV 2/5] END .......C=1, gamma=0.01, kernel=rbf;, score=0.884 total time= 1.7min\n",
      "[CV 3/5] END .......C=1, gamma=0.01, kernel=rbf;, score=0.880 total time= 1.7min\n",
      "[CV 4/5] END .......C=1, gamma=0.01, kernel=rbf;, score=0.887 total time= 1.7min\n",
      "[CV 5/5] END .......C=1, gamma=0.01, kernel=rbf;, score=0.884 total time= 1.7min\n",
      "[CV 1/5] END ........C=1, gamma=0.1, kernel=rbf;, score=0.946 total time= 1.1min\n",
      "[CV 2/5] END ........C=1, gamma=0.1, kernel=rbf;, score=0.942 total time= 1.1min\n",
      "[CV 3/5] END ........C=1, gamma=0.1, kernel=rbf;, score=0.940 total time= 1.1min\n",
      "[CV 4/5] END ........C=1, gamma=0.1, kernel=rbf;, score=0.942 total time= 1.1min\n",
      "[CV 5/5] END ........C=1, gamma=0.1, kernel=rbf;, score=0.941 total time= 1.1min\n",
      "[CV 1/5] END ..........C=1, gamma=1, kernel=rbf;, score=0.962 total time= 7.4min\n",
      "[CV 2/5] END ..........C=1, gamma=1, kernel=rbf;, score=0.957 total time= 7.4min\n",
      "[CV 3/5] END ..........C=1, gamma=1, kernel=rbf;, score=0.959 total time= 7.5min\n",
      "[CV 4/5] END ..........C=1, gamma=1, kernel=rbf;, score=0.960 total time= 7.4min\n",
      "[CV 5/5] END ..........C=1, gamma=1, kernel=rbf;, score=0.956 total time= 7.3min\n",
      "[CV 1/5] END ....C=10, gamma=0.0001, kernel=rbf;, score=0.863 total time= 2.7min\n",
      "[CV 2/5] END ....C=10, gamma=0.0001, kernel=rbf;, score=0.855 total time= 2.7min\n",
      "[CV 3/5] END ....C=10, gamma=0.0001, kernel=rbf;, score=0.847 total time= 2.7min\n",
      "[CV 4/5] END ....C=10, gamma=0.0001, kernel=rbf;, score=0.856 total time= 2.7min\n",
      "[CV 5/5] END ....C=10, gamma=0.0001, kernel=rbf;, score=0.852 total time= 2.9min\n",
      "[CV 1/5] END .....C=10, gamma=0.001, kernel=rbf;, score=0.890 total time= 1.7min\n",
      "[CV 2/5] END .....C=10, gamma=0.001, kernel=rbf;, score=0.878 total time= 1.8min\n",
      "[CV 3/5] END .....C=10, gamma=0.001, kernel=rbf;, score=0.875 total time= 1.7min\n",
      "[CV 4/5] END .....C=10, gamma=0.001, kernel=rbf;, score=0.883 total time= 1.7min\n",
      "[CV 5/5] END .....C=10, gamma=0.001, kernel=rbf;, score=0.876 total time= 1.7min\n",
      "[CV 1/5] END ......C=10, gamma=0.01, kernel=rbf;, score=0.916 total time= 1.3min\n",
      "[CV 2/5] END ......C=10, gamma=0.01, kernel=rbf;, score=0.904 total time= 1.3min\n",
      "[CV 3/5] END ......C=10, gamma=0.01, kernel=rbf;, score=0.906 total time= 1.3min\n",
      "[CV 4/5] END ......C=10, gamma=0.01, kernel=rbf;, score=0.908 total time= 1.3min\n",
      "[CV 5/5] END ......C=10, gamma=0.01, kernel=rbf;, score=0.903 total time= 1.3min\n",
      "[CV 1/5] END .......C=10, gamma=0.1, kernel=rbf;, score=0.967 total time= 2.5min\n",
      "[CV 2/5] END .......C=10, gamma=0.1, kernel=rbf;, score=0.964 total time= 2.4min\n",
      "[CV 3/5] END .......C=10, gamma=0.1, kernel=rbf;, score=0.965 total time= 2.5min\n",
      "[CV 4/5] END .......C=10, gamma=0.1, kernel=rbf;, score=0.968 total time= 2.5min\n",
      "[CV 5/5] END .......C=10, gamma=0.1, kernel=rbf;, score=0.966 total time= 2.5min\n",
      "[CV 1/5] END .........C=10, gamma=1, kernel=rbf;, score=0.964 total time= 7.6min\n",
      "[CV 2/5] END .........C=10, gamma=1, kernel=rbf;, score=0.960 total time= 7.6min\n",
      "[CV 3/5] END .........C=10, gamma=1, kernel=rbf;, score=0.962 total time= 7.7min\n",
      "[CV 4/5] END .........C=10, gamma=1, kernel=rbf;, score=0.962 total time= 7.6min\n",
      "[CV 5/5] END .........C=10, gamma=1, kernel=rbf;, score=0.959 total time= 7.6min\n",
      "[CV 1/5] END ...C=100, gamma=0.0001, kernel=rbf;, score=0.890 total time= 1.8min\n",
      "[CV 2/5] END ...C=100, gamma=0.0001, kernel=rbf;, score=0.878 total time= 1.8min\n",
      "[CV 3/5] END ...C=100, gamma=0.0001, kernel=rbf;, score=0.874 total time= 1.7min\n",
      "[CV 4/5] END ...C=100, gamma=0.0001, kernel=rbf;, score=0.882 total time= 1.7min\n",
      "[CV 5/5] END ...C=100, gamma=0.0001, kernel=rbf;, score=0.875 total time= 1.7min\n",
      "[CV 1/5] END ....C=100, gamma=0.001, kernel=rbf;, score=0.899 total time= 1.3min\n",
      "[CV 2/5] END ....C=100, gamma=0.001, kernel=rbf;, score=0.885 total time= 1.3min\n",
      "[CV 3/5] END ....C=100, gamma=0.001, kernel=rbf;, score=0.884 total time= 1.3min\n",
      "[CV 4/5] END ....C=100, gamma=0.001, kernel=rbf;, score=0.890 total time= 1.3min\n",
      "[CV 5/5] END ....C=100, gamma=0.001, kernel=rbf;, score=0.885 total time= 1.3min\n",
      "[CV 1/5] END .....C=100, gamma=0.01, kernel=rbf;, score=0.949 total time= 1.8min\n",
      "[CV 2/5] END .....C=100, gamma=0.01, kernel=rbf;, score=0.948 total time= 1.7min\n",
      "[CV 3/5] END .....C=100, gamma=0.01, kernel=rbf;, score=0.946 total time= 1.7min\n",
      "[CV 4/5] END .....C=100, gamma=0.01, kernel=rbf;, score=0.948 total time= 1.7min\n",
      "[CV 5/5] END .....C=100, gamma=0.01, kernel=rbf;, score=0.945 total time= 1.7min\n",
      "[CV 1/5] END ......C=100, gamma=0.1, kernel=rbf;, score=0.970 total time= 3.0min\n",
      "[CV 2/5] END ......C=100, gamma=0.1, kernel=rbf;, score=0.966 total time= 3.0min\n",
      "[CV 3/5] END ......C=100, gamma=0.1, kernel=rbf;, score=0.965 total time= 3.0min\n",
      "[CV 4/5] END ......C=100, gamma=0.1, kernel=rbf;, score=0.969 total time= 3.0min\n",
      "[CV 5/5] END ......C=100, gamma=0.1, kernel=rbf;, score=0.967 total time= 3.0min\n",
      "[CV 1/5] END ........C=100, gamma=1, kernel=rbf;, score=0.964 total time= 7.6min\n",
      "[CV 2/5] END ........C=100, gamma=1, kernel=rbf;, score=0.960 total time= 7.6min\n",
      "[CV 3/5] END ........C=100, gamma=1, kernel=rbf;, score=0.962 total time= 7.6min\n",
      "[CV 4/5] END ........C=100, gamma=1, kernel=rbf;, score=0.962 total time= 7.6min\n",
      "[CV 5/5] END ........C=100, gamma=1, kernel=rbf;, score=0.959 total time= 7.6min\n",
      "[CV 1/5] END ..C=1000, gamma=0.0001, kernel=rbf;, score=0.897 total time= 1.3min\n",
      "[CV 2/5] END ..C=1000, gamma=0.0001, kernel=rbf;, score=0.880 total time= 1.3min\n",
      "[CV 3/5] END ..C=1000, gamma=0.0001, kernel=rbf;, score=0.882 total time= 1.3min\n",
      "[CV 4/5] END ..C=1000, gamma=0.0001, kernel=rbf;, score=0.888 total time= 1.4min\n",
      "[CV 5/5] END ..C=1000, gamma=0.0001, kernel=rbf;, score=0.882 total time= 1.3min\n",
      "[CV 1/5] END ...C=1000, gamma=0.001, kernel=rbf;, score=0.912 total time= 2.1min\n",
      "[CV 2/5] END ...C=1000, gamma=0.001, kernel=rbf;, score=0.904 total time= 2.1min\n",
      "[CV 3/5] END ...C=1000, gamma=0.001, kernel=rbf;, score=0.906 total time= 2.1min\n",
      "[CV 4/5] END ...C=1000, gamma=0.001, kernel=rbf;, score=0.909 total time= 2.1min\n",
      "[CV 5/5] END ...C=1000, gamma=0.001, kernel=rbf;, score=0.901 total time= 2.1min\n",
      "[CV 1/5] END ....C=1000, gamma=0.01, kernel=rbf;, score=0.961 total time= 5.0min\n",
      "[CV 2/5] END ....C=1000, gamma=0.01, kernel=rbf;, score=0.961 total time= 4.9min\n",
      "[CV 3/5] END ....C=1000, gamma=0.01, kernel=rbf;, score=0.960 total time= 4.9min\n",
      "[CV 4/5] END ....C=1000, gamma=0.01, kernel=rbf;, score=0.963 total time= 5.0min\n",
      "[CV 5/5] END ....C=1000, gamma=0.01, kernel=rbf;, score=0.962 total time= 4.9min\n",
      "[CV 1/5] END .....C=1000, gamma=0.1, kernel=rbf;, score=0.970 total time= 3.1min\n",
      "[CV 2/5] END .....C=1000, gamma=0.1, kernel=rbf;, score=0.966 total time= 3.0min\n",
      "[CV 3/5] END .....C=1000, gamma=0.1, kernel=rbf;, score=0.965 total time= 3.0min\n",
      "[CV 4/5] END .....C=1000, gamma=0.1, kernel=rbf;, score=0.969 total time= 3.0min\n",
      "[CV 5/5] END .....C=1000, gamma=0.1, kernel=rbf;, score=0.967 total time= 3.0min\n",
      "[CV 1/5] END .......C=1000, gamma=1, kernel=rbf;, score=0.964 total time= 7.6min\n",
      "[CV 2/5] END .......C=1000, gamma=1, kernel=rbf;, score=0.960 total time= 7.6min\n",
      "[CV 3/5] END .......C=1000, gamma=1, kernel=rbf;, score=0.962 total time= 7.6min\n",
      "[CV 4/5] END .......C=1000, gamma=1, kernel=rbf;, score=0.962 total time= 7.6min\n",
      "[CV 5/5] END .......C=1000, gamma=1, kernel=rbf;, score=0.959 total time= 7.6min\n"
     ]
    },
    {
     "data": {
      "text/plain": [
       "GridSearchCV(estimator=SVC(),\n",
       "             param_grid={'C': [1, 10, 100, 1000],\n",
       "                         'gamma': [0.0001, 0.001, 0.01, 0.1, 1],\n",
       "                         'kernel': ['rbf']},\n",
       "             verbose=4)"
      ],
      "text/html": [
       "<style>#sk-container-id-2 {color: black;}#sk-container-id-2 pre{padding: 0;}#sk-container-id-2 div.sk-toggleable {background-color: white;}#sk-container-id-2 label.sk-toggleable__label {cursor: pointer;display: block;width: 100%;margin-bottom: 0;padding: 0.3em;box-sizing: border-box;text-align: center;}#sk-container-id-2 label.sk-toggleable__label-arrow:before {content: \"▸\";float: left;margin-right: 0.25em;color: #696969;}#sk-container-id-2 label.sk-toggleable__label-arrow:hover:before {color: black;}#sk-container-id-2 div.sk-estimator:hover label.sk-toggleable__label-arrow:before {color: black;}#sk-container-id-2 div.sk-toggleable__content {max-height: 0;max-width: 0;overflow: hidden;text-align: left;background-color: #f0f8ff;}#sk-container-id-2 div.sk-toggleable__content pre {margin: 0.2em;color: black;border-radius: 0.25em;background-color: #f0f8ff;}#sk-container-id-2 input.sk-toggleable__control:checked~div.sk-toggleable__content {max-height: 200px;max-width: 100%;overflow: auto;}#sk-container-id-2 input.sk-toggleable__control:checked~label.sk-toggleable__label-arrow:before {content: \"▾\";}#sk-container-id-2 div.sk-estimator input.sk-toggleable__control:checked~label.sk-toggleable__label {background-color: #d4ebff;}#sk-container-id-2 div.sk-label input.sk-toggleable__control:checked~label.sk-toggleable__label {background-color: #d4ebff;}#sk-container-id-2 input.sk-hidden--visually {border: 0;clip: rect(1px 1px 1px 1px);clip: rect(1px, 1px, 1px, 1px);height: 1px;margin: -1px;overflow: hidden;padding: 0;position: absolute;width: 1px;}#sk-container-id-2 div.sk-estimator {font-family: monospace;background-color: #f0f8ff;border: 1px dotted black;border-radius: 0.25em;box-sizing: border-box;margin-bottom: 0.5em;}#sk-container-id-2 div.sk-estimator:hover {background-color: #d4ebff;}#sk-container-id-2 div.sk-parallel-item::after {content: \"\";width: 100%;border-bottom: 1px solid gray;flex-grow: 1;}#sk-container-id-2 div.sk-label:hover label.sk-toggleable__label {background-color: #d4ebff;}#sk-container-id-2 div.sk-serial::before {content: \"\";position: absolute;border-left: 1px solid gray;box-sizing: border-box;top: 0;bottom: 0;left: 50%;z-index: 0;}#sk-container-id-2 div.sk-serial {display: flex;flex-direction: column;align-items: center;background-color: white;padding-right: 0.2em;padding-left: 0.2em;position: relative;}#sk-container-id-2 div.sk-item {position: relative;z-index: 1;}#sk-container-id-2 div.sk-parallel {display: flex;align-items: stretch;justify-content: center;background-color: white;position: relative;}#sk-container-id-2 div.sk-item::before, #sk-container-id-2 div.sk-parallel-item::before {content: \"\";position: absolute;border-left: 1px solid gray;box-sizing: border-box;top: 0;bottom: 0;left: 50%;z-index: -1;}#sk-container-id-2 div.sk-parallel-item {display: flex;flex-direction: column;z-index: 1;position: relative;background-color: white;}#sk-container-id-2 div.sk-parallel-item:first-child::after {align-self: flex-end;width: 50%;}#sk-container-id-2 div.sk-parallel-item:last-child::after {align-self: flex-start;width: 50%;}#sk-container-id-2 div.sk-parallel-item:only-child::after {width: 0;}#sk-container-id-2 div.sk-dashed-wrapped {border: 1px dashed gray;margin: 0 0.4em 0.5em 0.4em;box-sizing: border-box;padding-bottom: 0.4em;background-color: white;}#sk-container-id-2 div.sk-label label {font-family: monospace;font-weight: bold;display: inline-block;line-height: 1.2em;}#sk-container-id-2 div.sk-label-container {text-align: center;}#sk-container-id-2 div.sk-container {/* jupyter's `normalize.less` sets `[hidden] { display: none; }` but bootstrap.min.css set `[hidden] { display: none !important; }` so we also need the `!important` here to be able to override the default hidden behavior on the sphinx rendered scikit-learn.org. See: https://github.com/scikit-learn/scikit-learn/issues/21755 */display: inline-block !important;position: relative;}#sk-container-id-2 div.sk-text-repr-fallback {display: none;}</style><div id=\"sk-container-id-2\" class=\"sk-top-container\"><div class=\"sk-text-repr-fallback\"><pre>GridSearchCV(estimator=SVC(),\n",
       "             param_grid={&#x27;C&#x27;: [1, 10, 100, 1000],\n",
       "                         &#x27;gamma&#x27;: [0.0001, 0.001, 0.01, 0.1, 1],\n",
       "                         &#x27;kernel&#x27;: [&#x27;rbf&#x27;]},\n",
       "             verbose=4)</pre><b>In a Jupyter environment, please rerun this cell to show the HTML representation or trust the notebook. <br />On GitHub, the HTML representation is unable to render, please try loading this page with nbviewer.org.</b></div><div class=\"sk-container\" hidden><div class=\"sk-item sk-dashed-wrapped\"><div class=\"sk-label-container\"><div class=\"sk-label sk-toggleable\"><input class=\"sk-toggleable__control sk-hidden--visually\" id=\"sk-estimator-id-2\" type=\"checkbox\" ><label for=\"sk-estimator-id-2\" class=\"sk-toggleable__label sk-toggleable__label-arrow\">GridSearchCV</label><div class=\"sk-toggleable__content\"><pre>GridSearchCV(estimator=SVC(),\n",
       "             param_grid={&#x27;C&#x27;: [1, 10, 100, 1000],\n",
       "                         &#x27;gamma&#x27;: [0.0001, 0.001, 0.01, 0.1, 1],\n",
       "                         &#x27;kernel&#x27;: [&#x27;rbf&#x27;]},\n",
       "             verbose=4)</pre></div></div></div><div class=\"sk-parallel\"><div class=\"sk-parallel-item\"><div class=\"sk-item\"><div class=\"sk-label-container\"><div class=\"sk-label sk-toggleable\"><input class=\"sk-toggleable__control sk-hidden--visually\" id=\"sk-estimator-id-3\" type=\"checkbox\" ><label for=\"sk-estimator-id-3\" class=\"sk-toggleable__label sk-toggleable__label-arrow\">estimator: SVC</label><div class=\"sk-toggleable__content\"><pre>SVC()</pre></div></div></div><div class=\"sk-serial\"><div class=\"sk-item\"><div class=\"sk-estimator sk-toggleable\"><input class=\"sk-toggleable__control sk-hidden--visually\" id=\"sk-estimator-id-4\" type=\"checkbox\" ><label for=\"sk-estimator-id-4\" class=\"sk-toggleable__label sk-toggleable__label-arrow\">SVC</label><div class=\"sk-toggleable__content\"><pre>SVC()</pre></div></div></div></div></div></div></div></div></div></div>"
      ]
     },
     "execution_count": 26,
     "metadata": {},
     "output_type": "execute_result"
    }
   ],
   "execution_count": 26
  },
  {
   "metadata": {
    "ExecuteTime": {
     "end_time": "2024-05-14T10:28:29.502291Z",
     "start_time": "2024-05-14T10:28:29.489260Z"
    }
   },
   "cell_type": "code",
   "source": "grid_search.best_params_",
   "id": "22197cdf4aefffe8",
   "outputs": [
    {
     "data": {
      "text/plain": [
       "{'C': 100, 'gamma': 0.1, 'kernel': 'rbf'}"
      ]
     },
     "execution_count": 27,
     "metadata": {},
     "output_type": "execute_result"
    }
   ],
   "execution_count": 27
  },
  {
   "metadata": {
    "ExecuteTime": {
     "end_time": "2024-05-14T10:28:29.518258Z",
     "start_time": "2024-05-14T10:28:29.504255Z"
    }
   },
   "cell_type": "code",
   "source": "grid_search.best_estimator_",
   "id": "500c0d2e2d15c1ed",
   "outputs": [
    {
     "data": {
      "text/plain": [
       "SVC(C=100, gamma=0.1)"
      ],
      "text/html": [
       "<style>#sk-container-id-3 {color: black;}#sk-container-id-3 pre{padding: 0;}#sk-container-id-3 div.sk-toggleable {background-color: white;}#sk-container-id-3 label.sk-toggleable__label {cursor: pointer;display: block;width: 100%;margin-bottom: 0;padding: 0.3em;box-sizing: border-box;text-align: center;}#sk-container-id-3 label.sk-toggleable__label-arrow:before {content: \"▸\";float: left;margin-right: 0.25em;color: #696969;}#sk-container-id-3 label.sk-toggleable__label-arrow:hover:before {color: black;}#sk-container-id-3 div.sk-estimator:hover label.sk-toggleable__label-arrow:before {color: black;}#sk-container-id-3 div.sk-toggleable__content {max-height: 0;max-width: 0;overflow: hidden;text-align: left;background-color: #f0f8ff;}#sk-container-id-3 div.sk-toggleable__content pre {margin: 0.2em;color: black;border-radius: 0.25em;background-color: #f0f8ff;}#sk-container-id-3 input.sk-toggleable__control:checked~div.sk-toggleable__content {max-height: 200px;max-width: 100%;overflow: auto;}#sk-container-id-3 input.sk-toggleable__control:checked~label.sk-toggleable__label-arrow:before {content: \"▾\";}#sk-container-id-3 div.sk-estimator input.sk-toggleable__control:checked~label.sk-toggleable__label {background-color: #d4ebff;}#sk-container-id-3 div.sk-label input.sk-toggleable__control:checked~label.sk-toggleable__label {background-color: #d4ebff;}#sk-container-id-3 input.sk-hidden--visually {border: 0;clip: rect(1px 1px 1px 1px);clip: rect(1px, 1px, 1px, 1px);height: 1px;margin: -1px;overflow: hidden;padding: 0;position: absolute;width: 1px;}#sk-container-id-3 div.sk-estimator {font-family: monospace;background-color: #f0f8ff;border: 1px dotted black;border-radius: 0.25em;box-sizing: border-box;margin-bottom: 0.5em;}#sk-container-id-3 div.sk-estimator:hover {background-color: #d4ebff;}#sk-container-id-3 div.sk-parallel-item::after {content: \"\";width: 100%;border-bottom: 1px solid gray;flex-grow: 1;}#sk-container-id-3 div.sk-label:hover label.sk-toggleable__label {background-color: #d4ebff;}#sk-container-id-3 div.sk-serial::before {content: \"\";position: absolute;border-left: 1px solid gray;box-sizing: border-box;top: 0;bottom: 0;left: 50%;z-index: 0;}#sk-container-id-3 div.sk-serial {display: flex;flex-direction: column;align-items: center;background-color: white;padding-right: 0.2em;padding-left: 0.2em;position: relative;}#sk-container-id-3 div.sk-item {position: relative;z-index: 1;}#sk-container-id-3 div.sk-parallel {display: flex;align-items: stretch;justify-content: center;background-color: white;position: relative;}#sk-container-id-3 div.sk-item::before, #sk-container-id-3 div.sk-parallel-item::before {content: \"\";position: absolute;border-left: 1px solid gray;box-sizing: border-box;top: 0;bottom: 0;left: 50%;z-index: -1;}#sk-container-id-3 div.sk-parallel-item {display: flex;flex-direction: column;z-index: 1;position: relative;background-color: white;}#sk-container-id-3 div.sk-parallel-item:first-child::after {align-self: flex-end;width: 50%;}#sk-container-id-3 div.sk-parallel-item:last-child::after {align-self: flex-start;width: 50%;}#sk-container-id-3 div.sk-parallel-item:only-child::after {width: 0;}#sk-container-id-3 div.sk-dashed-wrapped {border: 1px dashed gray;margin: 0 0.4em 0.5em 0.4em;box-sizing: border-box;padding-bottom: 0.4em;background-color: white;}#sk-container-id-3 div.sk-label label {font-family: monospace;font-weight: bold;display: inline-block;line-height: 1.2em;}#sk-container-id-3 div.sk-label-container {text-align: center;}#sk-container-id-3 div.sk-container {/* jupyter's `normalize.less` sets `[hidden] { display: none; }` but bootstrap.min.css set `[hidden] { display: none !important; }` so we also need the `!important` here to be able to override the default hidden behavior on the sphinx rendered scikit-learn.org. See: https://github.com/scikit-learn/scikit-learn/issues/21755 */display: inline-block !important;position: relative;}#sk-container-id-3 div.sk-text-repr-fallback {display: none;}</style><div id=\"sk-container-id-3\" class=\"sk-top-container\"><div class=\"sk-text-repr-fallback\"><pre>SVC(C=100, gamma=0.1)</pre><b>In a Jupyter environment, please rerun this cell to show the HTML representation or trust the notebook. <br />On GitHub, the HTML representation is unable to render, please try loading this page with nbviewer.org.</b></div><div class=\"sk-container\" hidden><div class=\"sk-item\"><div class=\"sk-estimator sk-toggleable\"><input class=\"sk-toggleable__control sk-hidden--visually\" id=\"sk-estimator-id-5\" type=\"checkbox\" checked><label for=\"sk-estimator-id-5\" class=\"sk-toggleable__label sk-toggleable__label-arrow\">SVC</label><div class=\"sk-toggleable__content\"><pre>SVC(C=100, gamma=0.1)</pre></div></div></div></div></div>"
      ]
     },
     "execution_count": 28,
     "metadata": {},
     "output_type": "execute_result"
    }
   ],
   "execution_count": 28
  },
  {
   "metadata": {},
   "cell_type": "markdown",
   "source": "",
   "id": "974ffa2ea0812e80"
  },
  {
   "metadata": {
    "ExecuteTime": {
     "end_time": "2024-05-14T10:29:16.785584Z",
     "start_time": "2024-05-14T10:28:29.520258Z"
    }
   },
   "cell_type": "code",
   "source": "grid_predictions = grid_search.predict(X_test_shuffled)",
   "id": "da4f49184070389b",
   "outputs": [],
   "execution_count": 29
  },
  {
   "metadata": {
    "ExecuteTime": {
     "end_time": "2024-05-14T14:07:47.628757Z",
     "start_time": "2024-05-14T14:07:47.509760Z"
    }
   },
   "cell_type": "code",
   "source": [
    "cm = confusion_matrix(y_test_shuffled, grid_predictions)\n",
    "sns.heatmap(cm, annot=True, fmt='g', cbar=False) \n",
    "plt.show()"
   ],
   "id": "c65fa8cbfc967257",
   "outputs": [
    {
     "data": {
      "text/plain": [
       "<Figure size 640x480 with 1 Axes>"
      ],
      "image/png": "[encoded data removed]"
     },
     "metadata": {},
     "output_type": "display_data"
    }
   ],
   "execution_count": 31
  },
  {
   "metadata": {
    "ExecuteTime": {
     "end_time": "2024-05-14T14:07:52.879814Z",
     "start_time": "2024-05-14T14:07:52.863812Z"
    }
   },
   "cell_type": "code",
   "source": "cm",
   "id": "6ee7c69864fe6741",
   "outputs": [
    {
     "data": {
      "text/plain": [
       "array([[9580,  420],\n",
       "       [1708, 7892]], dtype=int64)"
      ]
     },
     "execution_count": 32,
     "metadata": {},
     "output_type": "execute_result"
    }
   ],
   "execution_count": 32
  },
  {
   "metadata": {
    "ExecuteTime": {
     "end_time": "2024-05-14T14:07:57.744431Z",
     "start_time": "2024-05-14T14:07:57.683431Z"
    }
   },
   "cell_type": "code",
   "source": "print(classification_report(y_test_shuffled, grid_predictions))",
   "id": "e080d13cd7c0100b",
   "outputs": [
    {
     "name": "stdout",
     "output_type": "stream",
     "text": [
      "              precision    recall  f1-score   support\n",
      "\n",
      "         0.0       0.85      0.96      0.90     10000\n",
      "         1.0       0.95      0.82      0.88      9600\n",
      "\n",
      "    accuracy                           0.89     19600\n",
      "   macro avg       0.90      0.89      0.89     19600\n",
      "weighted avg       0.90      0.89      0.89     19600\n",
      "\n"
     ]
    }
   ],
   "execution_count": 33
  },
  {
   "metadata": {},
   "cell_type": "code",
   "source": "",
   "id": "b6285095be5d9575",
   "outputs": [],
   "execution_count": null
  }
 ],
 "metadata": {
  "kernelspec": {
   "display_name": "Python 3",
   "language": "python",
   "name": "python3"
  },
  "language_info": {
   "codemirror_mode": {
    "name": "ipython",
    "version": 2
   },
   "file_extension": ".py",
   "mimetype": "text/x-python",
   "name": "python",
   "nbconvert_exporter": "python",
   "pygments_lexer": "ipython2",
   "version": "2.7.6"
  }
 },
 "nbformat": 4,
 "nbformat_minor": 5
}
