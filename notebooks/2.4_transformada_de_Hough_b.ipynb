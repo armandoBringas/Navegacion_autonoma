{
 "cells": [
  {
   "cell_type": "code",
   "id": "initial_id",
   "metadata": {
    "collapsed": true,
    "ExecuteTime": {
     "end_time": "2024-05-02T06:10:32.579337Z",
     "start_time": "2024-05-02T06:10:31.750682Z"
    }
   },
   "source": [
    "import matplotlib.image as mpimg\n",
    "import matplotlib.pyplot as plt\n",
    "import numpy as np\n",
    "import cv2"
   ],
   "execution_count": 1,
   "outputs": []
  },
  {
   "metadata": {
    "ExecuteTime": {
     "end_time": "2024-05-02T06:12:56.909682Z",
     "start_time": "2024-05-02T06:12:56.676726Z"
    }
   },
   "cell_type": "code",
   "source": [
    "# read image\n",
    "img_path = '../../img/'\n",
    "img_file = 'image_lane_c.jpg'\n",
    "img_bgr = cv2.imread(f'{img_path}/{img_file}')\n",
    "img_grey = cv2.cvtColor(img_bgr, cv2.COLOR_BGR2GRAY)\n",
    "img_rgb = cv2.cvtColor(img_bgr, cv2.COLOR_BGR2RGB)\n",
    "img_blur = cv2.GaussianBlur(img_grey, (5, 5), 0)\n",
    "img_canny = cv2.Canny(img_blur, 40, 120)\n",
    "plt.imshow(img_canny, cmap='gray')"
   ],
   "id": "33b360e89103ea2c",
   "execution_count": 3,
   "outputs": []
  },
  {
   "metadata": {
    "ExecuteTime": {
     "end_time": "2024-05-02T06:13:14.239411Z",
     "start_time": "2024-05-02T06:13:14.223494Z"
    }
   },
   "cell_type": "code",
   "source": "img_canny.shape",
   "id": "77211e9256dc05c2",
   "execution_count": 4,
   "outputs": []
  },
  {
   "metadata": {
    "ExecuteTime": {
     "end_time": "2024-05-02T06:16:39.634114Z",
     "start_time": "2024-05-02T06:16:39.440599Z"
    }
   },
   "cell_type": "code",
   "source": [
    "# arbitrary ROI\n",
    "vertices = np.array([[(20,540),(200,300),(650,300),(850,540)]], dtype=np.int32)\n",
    "# image in black with the same dimensions of the original image in grayscale\n",
    "img_roi = np.zeros_like(img_grey)\n",
    "# the ROI will be displayed in white over the black image\n",
    "cv2.fillPoly(img_roi, vertices, 255)\n",
    "# mask image\n",
    "img_mask = cv2.bitwise_and(img_canny, img_roi)\n",
    "plt.imshow(img_mask, cmap='gray')"
   ],
   "id": "f61a7e505389d0af",
   "execution_count": 9,
   "outputs": []
  },
  {
   "metadata": {
    "ExecuteTime": {
     "end_time": "2024-05-02T07:34:50.252097Z",
     "start_time": "2024-05-02T07:34:50.227581Z"
    }
   },
   "cell_type": "code",
   "source": [
    "rho = 2\n",
    "theta = np.pi/180\n",
    "threshold = 40\n",
    "min_line_length = 50\n",
    "max_line_gap = 10\n",
    "lines = cv2.HoughLinesP(img_mask, rho, theta, threshold, np.array([]), min_line_length, max_line_gap)\n",
    "img_lines = np.zeros((img_mask.shape[0], img_mask.shape[1], 3), dtype=np.uint8)\n",
    "\n",
    "for line in lines:\n",
    "    for x1,y1,x2,y2 in line:\n",
    "        cv2.line(img_lines, (x1,y1), (x2,y2), [255, 0, 0], 30)\n",
    "\n",
    "print(lines)"
   ],
   "id": "a9105f9d79fa11c2",
   "execution_count": 12,
   "outputs": []
  },
  {
   "metadata": {
    "ExecuteTime": {
     "end_time": "2024-05-02T06:48:11.542437Z",
     "start_time": "2024-05-02T06:48:11.303261Z"
    }
   },
   "cell_type": "code",
   "source": [
    "alpha = 1\n",
    "beta = 1\n",
    "gamma = 1\n",
    "img_lane_lines = cv2.addWeighted(img_rgb, alpha, img_lines, beta, gamma)\n",
    "plt.imshow(img_lane_lines)"
   ],
   "id": "43f86efb93511284",
   "execution_count": 11,
   "outputs": []
  },
  {
   "metadata": {},
   "cell_type": "code",
   "execution_count": null,
   "source": "",
   "id": "9c2fef3bca34129",
   "outputs": []
  }
 ],
 "metadata": {
  "kernelspec": {
   "display_name": "Python 3",
   "language": "python",
   "name": "python3"
  },
  "language_info": {
   "codemirror_mode": {
    "name": "ipython",
    "version": 2
   },
   "file_extension": ".py",
   "mimetype": "text/x-python",
   "name": "python",
   "nbconvert_exporter": "python",
   "pygments_lexer": "ipython2",
   "version": "2.7.6"
  }
 },
 "nbformat": 4,
 "nbformat_minor": 5
}
