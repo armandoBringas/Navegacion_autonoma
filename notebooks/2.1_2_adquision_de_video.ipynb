{
 "cells": [
  {
   "cell_type": "code",
   "id": "initial_id",
   "metadata": {
    "collapsed": true,
    "ExecuteTime": {
     "end_time": "2024-05-02T01:11:04.287209Z",
     "start_time": "2024-05-02T01:11:03.524816Z"
    }
   },
   "source": "import cv2",
   "execution_count": 1,
   "outputs": []
  },
  {
   "metadata": {
    "ExecuteTime": {
     "end_time": "2024-05-02T01:12:33.424613Z",
     "start_time": "2024-05-02T01:12:33.410613Z"
    }
   },
   "cell_type": "code",
   "source": [
    "def cartoon(image_color):\n",
    "    dst = cv2.stylization(image_color, sigma_s=60, sigma_r=0.25)\n",
    "    return dst"
   ],
   "id": "ac5f9f99258a1652",
   "execution_count": 4,
   "outputs": []
  },
  {
   "metadata": {
    "ExecuteTime": {
     "end_time": "2024-05-02T01:16:23.939332Z",
     "start_time": "2024-05-02T01:14:58.962065Z"
    }
   },
   "cell_type": "code",
   "source": [
    "cap = cv2.VideoCapture(0)\n",
    "\n",
    "while True:\n",
    "    ret, frame = cap.read()\n",
    "    cv2.imshow('Live detection', cartoon(frame))\n",
    "    cv2.imshow('Webcam Video', frame)\n",
    "    # Close camera window by pressing ENTER in the keyboard\n",
    "    if cv2.waitKey(1) == 13:\n",
    "        break\n",
    "\n",
    "cap.release()\n",
    "cv2.destroyAllWindows()"
   ],
   "id": "8540e990125a2400",
   "execution_count": 5,
   "outputs": []
  },
  {
   "metadata": {},
   "cell_type": "code",
   "execution_count": null,
   "source": "",
   "id": "97d91cffc99e5c11",
   "outputs": []
  }
 ],
 "metadata": {
  "kernelspec": {
   "display_name": "Python 3",
   "language": "python",
   "name": "python3"
  },
  "language_info": {
   "codemirror_mode": {
    "name": "ipython",
    "version": 2
   },
   "file_extension": ".py",
   "mimetype": "text/x-python",
   "name": "python",
   "nbconvert_exporter": "python",
   "pygments_lexer": "ipython2",
   "version": "2.7.6"
  }
 },
 "nbformat": 4,
 "nbformat_minor": 5
}
